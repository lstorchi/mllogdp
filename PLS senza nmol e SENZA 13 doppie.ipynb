{
 "cells": [
  {
   "cell_type": "code",
   "execution_count": 4,
   "metadata": {},
   "outputs": [
    {
     "name": "stdout",
     "output_type": "stream",
     "text": [
      "(1130, 356)\n",
      "                                                    mol          Unique_ID  \\\n",
      "0         Fc1c(N2CCNCC2)cc2N(C3CC3)C=C(C(=O)O)C(=O)c2c1  A-logD7.4-100.mol   \n",
      "1             O=S1(=O)N(C)CCN1c1cc2c(CCN(C)C)c[nH]c2cc1  A-logD7.4-101.mol   \n",
      "2                              O=C1C(O)=C(C)N(CCCO)C=C1  A-logD7.4-104.mol   \n",
      "3     Fc1c(N2CCNCC2)cc2N(c3c(C)cccc3)C=C(C(=O)O)C(=O...  A-logD7.4-105.mol   \n",
      "4                        O=C(NCC)CCN1C(C)=C(O)C(=O)C=C1  A-logD7.4-106.mol   \n",
      "...                                                 ...                ...   \n",
      "1125                                O=C(O)CC1(CN)CCCCC1            O-8.mol   \n",
      "1126                                O=C1Oc2c(cccc2)C=C1           O-94.mol   \n",
      "1127                      Clc1c(C=N/N=C(\\N)/N)c(Cl)ccc1           O-97.mol   \n",
      "1128  O=C(CO)[C@@]1(O)[C@@]2(C)[C@@H]([C@@H]3[C@@H](...           O-98.mol   \n",
      "1129  O=C(N1CCN(c2nc(N)c3c(n2)cc(OC)c(OC)c3)CC1)[C@H...            O-9.mol   \n",
      "\n",
      "      AM1_dipole       AM1_E   AM1_Eele      AM1_HF  AM1_HOMO   AM1_IP  \\\n",
      "0       7.750276 -103541.820 -717900.81  -41.068192  -9.14368  9.14368   \n",
      "1       4.358144  -89582.016 -649679.25    9.004830  -8.49724  8.49724   \n",
      "2       5.544390  -57643.316 -300930.34 -109.097170  -8.43392  8.43392   \n",
      "3       8.887918 -116000.170 -883984.06  -75.744698  -8.95637  8.95637   \n",
      "4       6.219123  -69271.062 -395500.38  -95.149117  -8.47283  8.47283   \n",
      "...          ...         ...        ...         ...       ...      ...   \n",
      "1125    1.580242  -51576.781 -298053.16 -131.929900  -9.66036  9.66036   \n",
      "1126    4.817789  -43230.504 -196975.89  -30.297520  -9.46002  9.46002   \n",
      "1127    2.182817  -62454.488 -308495.69   67.349892  -8.74139  8.74139   \n",
      "1128    5.605708 -108510.510 -940109.25 -217.843980  -9.78824  9.78824   \n",
      "1129    2.551292 -117421.360 -903435.00  -66.937332  -8.41628  8.41628   \n",
      "\n",
      "      AM1_LUMO       apol  ...  vsurf_Wp3  vsurf_Wp4  vsurf_Wp5  vsurf_Wp6  \\\n",
      "0     -0.91224  48.185272  ...     75.625     12.500      4.500      0.625   \n",
      "1     -0.49974  49.973446  ...     74.125     10.500      2.500      0.000   \n",
      "2      0.08956  28.014309  ...     29.625      6.125      1.125      0.000   \n",
      "3     -0.81618  56.558861  ...     84.375     11.500      4.125      0.625   \n",
      "4      0.04067  34.634689  ...     56.875     14.125      3.125      0.000   \n",
      "...        ...        ...  ...        ...        ...        ...        ...   \n",
      "1125   0.93115  29.879480  ...     69.000     20.750      4.875      0.125   \n",
      "1126  -0.93056  21.444757  ...      2.875      0.000      0.000      0.000   \n",
      "1127  -0.13115  28.174343  ...    156.875     43.875     12.250      0.875   \n",
      "1128   0.20467  60.973789  ...     55.375     11.625      2.375      0.000   \n",
      "1129  -0.46957  58.817825  ...    126.125     25.375      8.875      1.375   \n",
      "\n",
      "      vsurf_Wp7  vsurf_Wp8     Weight  weinerPath  weinerPol  zagreb  \n",
      "0           0.0        0.0  331.34698        1234         43     134  \n",
      "1           0.0        0.0  322.43298        1055         35     120  \n",
      "2           0.0        0.0  183.20700         254         18      60  \n",
      "3           0.0        0.0  381.40698        1842         51     152  \n",
      "4           0.0        0.0  224.25999         483         22      74  \n",
      "...         ...        ...        ...         ...        ...     ...  \n",
      "1125        0.0        0.0  171.23999         193         15      56  \n",
      "1126        0.0        0.0  146.14499         144         14      56  \n",
      "1127        0.0        0.0  231.08600         331         17      64  \n",
      "1128        0.0        0.0  362.46600        1425         59     154  \n",
      "1129        0.0        0.0  387.44000        2195         47     150  \n",
      "\n",
      "[1130 rows x 356 columns]\n",
      "(1130, 4)\n"
     ]
    }
   ],
   "source": [
    "# apriamo il file dei descrittori presi da MOE per intero\n",
    "import pandas as pd\n",
    "filename = \"./data/1130_alldesc.csv\"\n",
    "descdata = pd.read_csv(filename)\n",
    "import numpy as np\n",
    "desc_sh = np.shape(descdata)\n",
    "print(desc_sh)\n",
    "desc_iniziali = pd.DataFrame(descdata)\n",
    "print(desc_iniziali)\n",
    "\n",
    "\n",
    "\n",
    "\n",
    "\n",
    "# togliamo le 13 molecole\n",
    "#dataset_senza13 = descdata[descdata['nmol'] == 2]\n",
    "#print(dataset_senza13)\n",
    "#desc_SENZA13EFFETTIVAMENTE = desc_iniziali.drop(desc_iniziali.index[[20,31,62,97,130,133,134,138,140,301,965,966,967]])\n",
    "#desc_SENZA13EFFETTIVAMENTE_shape = np.shape(desc_SENZA13EFFETTIVAMENTE)\n",
    "#print(desc_SENZA13EFFETTIVAMENTE_shape)\n",
    "\n",
    "# togliamo la colonna nmol \n",
    "#dataset_senza13nmol = desc_SENZA13EFFETTIVAMENTE.drop('nmol', axis=1)\n",
    "#dataset_senza13nmol_shape = np.shape(dataset_senza13nmol)\n",
    "#print(dataset_senza13nmol_shape)\n",
    "\n"
   ]
  },
  {
   "cell_type": "code",
   "execution_count": 5,
   "metadata": {},
   "outputs": [
    {
     "name": "stdout",
     "output_type": "stream",
     "text": [
      "(1130, 4)\n",
      "                 NO DatasetID  \\\n",
      "0     A-logD7.4-100        Tr   \n",
      "1     A-logD7.4-101        Tr   \n",
      "2     A-logD7.4-104        Tr   \n",
      "3     A-logD7.4-105        Tr   \n",
      "4     A-logD7.4-106        Tr   \n",
      "...             ...       ...   \n",
      "1125           O-88        Tr   \n",
      "1126            O-9        Tr   \n",
      "1127           O-94        Tr   \n",
      "1128           O-97        Te   \n",
      "1129           O-98        Tr   \n",
      "\n",
      "                                                 SMILES   LogD  \n",
      "0           Fc1cc2c(N(C=C(C(O)=O)C2=O)C2CC2)cc1N1CCNCC1 -0.960  \n",
      "1           S1(=O)(=O)N(CCN1C)c1cc2c([nH]cc2CCN(C)C)cc1 -0.920  \n",
      "2                               OC=1C(=O)C=CN(CCCO)C=1C -0.900  \n",
      "3       Fc1cc2c(N(C=C(C(O)=O)C2=O)c2ccccc2C)cc1N1CCNCC1 -0.830  \n",
      "4                         OC=1C(=O)C=CN(CCC(=O)NCC)C=1C -0.820  \n",
      "...                                                 ...    ...  \n",
      "1125                        O(CC(O)CNC(C)C)c1ccccc1CC=C  1.000  \n",
      "1126  O1CCC[C@H]1C(=O)N1CCN(CC1)c1nc(N)c2cc(OC)c(OC)...  1.140  \n",
      "1127                                O1c2c(C=CC1=O)cccc2  1.415  \n",
      "1128                           Clc1cccc(Cl)c1C=NN=C(N)N  1.670  \n",
      "1129  OC1(CCC2C3C(C4(C(=CC(=O)CC4)CC3)C)C(O)CC12C)C(...  1.530  \n",
      "\n",
      "[1130 rows x 4 columns]\n"
     ]
    }
   ],
   "source": [
    "# leggiamo file con i valori di logD\n",
    "filename2 = \"./data/data.xlsx\"\n",
    "logDtab = pd.read_excel(filename2)\n",
    "logD_dataframe = pd.DataFrame(logDtab)\n",
    "logD_dataframe_shape = np.shape(logD_dataframe)\n",
    "print(logD_dataframe_shape)\n",
    "print(logD_dataframe)"
   ]
  },
  {
   "cell_type": "code",
   "execution_count": 20,
   "metadata": {},
   "outputs": [
    {
     "name": "stdout",
     "output_type": "stream",
     "text": [
      "(0, 360)\n"
     ]
    }
   ],
   "source": [
    "merged_dataframe = desc_iniziali.merge(logD_dataframe, left_on='Unique_ID', right_on='NO')\n",
    "merged_dataframe_shape = np.shape(merged_dataframe)\n",
    "print(merged_dataframe_shape)"
   ]
  },
  {
   "cell_type": "code",
   "execution_count": null,
   "metadata": {},
   "outputs": [],
   "source": []
  }
 ],
 "metadata": {
  "kernelspec": {
   "display_name": "Python 3",
   "language": "python",
   "name": "python3"
  },
  "language_info": {
   "codemirror_mode": {
    "name": "ipython",
    "version": 3
   },
   "file_extension": ".py",
   "mimetype": "text/x-python",
   "name": "python",
   "nbconvert_exporter": "python",
   "pygments_lexer": "ipython3",
   "version": "3.8.2"
  }
 },
 "nbformat": 4,
 "nbformat_minor": 4
}
