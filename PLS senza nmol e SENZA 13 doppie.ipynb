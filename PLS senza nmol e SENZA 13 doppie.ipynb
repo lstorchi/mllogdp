{
 "cells": [
  {
   "cell_type": "code",
   "execution_count": 1,
   "metadata": {},
   "outputs": [
    {
     "name": "stdout",
     "output_type": "stream",
     "text": [
      "(1130, 356)\n",
      "                                                    mol      Unique_ID  \\\n",
      "0         Fc1c(N2CCNCC2)cc2N(C3CC3)C=C(C(=O)O)C(=O)c2c1  A-logD7.4-100   \n",
      "1             O=S1(=O)N(C)CCN1c1cc2c(CCN(C)C)c[nH]c2cc1  A-logD7.4-101   \n",
      "2                              O=C1C(O)=C(C)N(CCCO)C=C1  A-logD7.4-104   \n",
      "3     Fc1c(N2CCNCC2)cc2N(c3c(C)cccc3)C=C(C(=O)O)C(=O...  A-logD7.4-105   \n",
      "4                        O=C(NCC)CCN1C(C)=C(O)C(=O)C=C1  A-logD7.4-106   \n",
      "...                                                 ...            ...   \n",
      "1125                                O=C(O)CC1(CN)CCCCC1            O-8   \n",
      "1126                                O=C1Oc2c(cccc2)C=C1           O-94   \n",
      "1127                      Clc1c(C=N/N=C(\\N)/N)c(Cl)ccc1           O-97   \n",
      "1128  O=C(CO)[C@@]1(O)[C@@]2(C)[C@@H]([C@@H]3[C@@H](...           O-98   \n",
      "1129  O=C(N1CCN(c2nc(N)c3c(n2)cc(OC)c(OC)c3)CC1)[C@H...            O-9   \n",
      "\n",
      "      AM1_dipole       AM1_E   AM1_Eele      AM1_HF  AM1_HOMO   AM1_IP  \\\n",
      "0       7.750276 -103541.820 -717900.81  -41.068192  -9.14368  9.14368   \n",
      "1       4.358144  -89582.016 -649679.25    9.004830  -8.49724  8.49724   \n",
      "2       5.544390  -57643.316 -300930.34 -109.097170  -8.43392  8.43392   \n",
      "3       8.887918 -116000.170 -883984.06  -75.744698  -8.95637  8.95637   \n",
      "4       6.219123  -69271.062 -395500.38  -95.149117  -8.47283  8.47283   \n",
      "...          ...         ...        ...         ...       ...      ...   \n",
      "1125    1.580242  -51576.781 -298053.16 -131.929900  -9.66036  9.66036   \n",
      "1126    4.817789  -43230.504 -196975.89  -30.297520  -9.46002  9.46002   \n",
      "1127    2.182817  -62454.488 -308495.69   67.349892  -8.74139  8.74139   \n",
      "1128    5.605708 -108510.510 -940109.25 -217.843980  -9.78824  9.78824   \n",
      "1129    2.551292 -117421.360 -903435.00  -66.937332  -8.41628  8.41628   \n",
      "\n",
      "      AM1_LUMO       apol  ...  vsurf_Wp3  vsurf_Wp4  vsurf_Wp5  vsurf_Wp6  \\\n",
      "0     -0.91224  48.185272  ...     75.625     12.500      4.500      0.625   \n",
      "1     -0.49974  49.973446  ...     74.125     10.500      2.500      0.000   \n",
      "2      0.08956  28.014309  ...     29.625      6.125      1.125      0.000   \n",
      "3     -0.81618  56.558861  ...     84.375     11.500      4.125      0.625   \n",
      "4      0.04067  34.634689  ...     56.875     14.125      3.125      0.000   \n",
      "...        ...        ...  ...        ...        ...        ...        ...   \n",
      "1125   0.93115  29.879480  ...     69.000     20.750      4.875      0.125   \n",
      "1126  -0.93056  21.444757  ...      2.875      0.000      0.000      0.000   \n",
      "1127  -0.13115  28.174343  ...    156.875     43.875     12.250      0.875   \n",
      "1128   0.20467  60.973789  ...     55.375     11.625      2.375      0.000   \n",
      "1129  -0.46957  58.817825  ...    126.125     25.375      8.875      1.375   \n",
      "\n",
      "      vsurf_Wp7  vsurf_Wp8     Weight  weinerPath  weinerPol  zagreb  \n",
      "0           0.0        0.0  331.34698        1234         43     134  \n",
      "1           0.0        0.0  322.43298        1055         35     120  \n",
      "2           0.0        0.0  183.20700         254         18      60  \n",
      "3           0.0        0.0  381.40698        1842         51     152  \n",
      "4           0.0        0.0  224.25999         483         22      74  \n",
      "...         ...        ...        ...         ...        ...     ...  \n",
      "1125        0.0        0.0  171.23999         193         15      56  \n",
      "1126        0.0        0.0  146.14499         144         14      56  \n",
      "1127        0.0        0.0  231.08600         331         17      64  \n",
      "1128        0.0        0.0  362.46600        1425         59     154  \n",
      "1129        0.0        0.0  387.44000        2195         47     150  \n",
      "\n",
      "[1130 rows x 356 columns]\n"
     ]
    }
   ],
   "source": [
    "# apriamo il file dei descrittori presi da MOE per intero\n",
    "import pandas as pd\n",
    "filename = \"./data/1130_alldesc_notdormol.csv\"\n",
    "descdata = pd.read_csv(filename)\n",
    "import numpy as np\n",
    "desc_sh = np.shape(descdata)\n",
    "print(desc_sh)\n",
    "desc_iniziali = pd.DataFrame(descdata)\n",
    "print(desc_iniziali)\n",
    "\n",
    "\n",
    "\n",
    "\n",
    "\n",
    "# togliamo le 13 molecole\n",
    "#dataset_senza13 = descdata[descdata['nmol'] == 2]\n",
    "#print(dataset_senza13)\n",
    "#desc_SENZA13EFFETTIVAMENTE = desc_iniziali.drop(desc_iniziali.index[[20,31,62,97,130,133,134,138,140,301,965,966,967]])\n",
    "#desc_SENZA13EFFETTIVAMENTE_shape = np.shape(desc_SENZA13EFFETTIVAMENTE)\n",
    "#print(desc_SENZA13EFFETTIVAMENTE_shape)\n",
    "\n",
    "# togliamo la colonna nmol \n",
    "#dataset_senza13nmol = desc_SENZA13EFFETTIVAMENTE.drop('nmol', axis=1)\n",
    "#dataset_senza13nmol_shape = np.shape(dataset_senza13nmol)\n",
    "#print(dataset_senza13nmol_shape)\n",
    "\n"
   ]
  },
  {
   "cell_type": "code",
   "execution_count": 2,
   "metadata": {},
   "outputs": [
    {
     "name": "stdout",
     "output_type": "stream",
     "text": [
      "(1130, 4)\n",
      "                 NO DatasetID  \\\n",
      "0     A-logD7.4-100        Tr   \n",
      "1     A-logD7.4-101        Tr   \n",
      "2     A-logD7.4-104        Tr   \n",
      "3     A-logD7.4-105        Tr   \n",
      "4     A-logD7.4-106        Tr   \n",
      "...             ...       ...   \n",
      "1125           O-88        Tr   \n",
      "1126            O-9        Tr   \n",
      "1127           O-94        Tr   \n",
      "1128           O-97        Te   \n",
      "1129           O-98        Tr   \n",
      "\n",
      "                                                 SMILES   LogD  \n",
      "0           Fc1cc2c(N(C=C(C(O)=O)C2=O)C2CC2)cc1N1CCNCC1 -0.960  \n",
      "1           S1(=O)(=O)N(CCN1C)c1cc2c([nH]cc2CCN(C)C)cc1 -0.920  \n",
      "2                               OC=1C(=O)C=CN(CCCO)C=1C -0.900  \n",
      "3       Fc1cc2c(N(C=C(C(O)=O)C2=O)c2ccccc2C)cc1N1CCNCC1 -0.830  \n",
      "4                         OC=1C(=O)C=CN(CCC(=O)NCC)C=1C -0.820  \n",
      "...                                                 ...    ...  \n",
      "1125                        O(CC(O)CNC(C)C)c1ccccc1CC=C  1.000  \n",
      "1126  O1CCC[C@H]1C(=O)N1CCN(CC1)c1nc(N)c2cc(OC)c(OC)...  1.140  \n",
      "1127                                O1c2c(C=CC1=O)cccc2  1.415  \n",
      "1128                           Clc1cccc(Cl)c1C=NN=C(N)N  1.670  \n",
      "1129  OC1(CCC2C3C(C4(C(=CC(=O)CC4)CC3)C)C(O)CC12C)C(...  1.530  \n",
      "\n",
      "[1130 rows x 4 columns]\n"
     ]
    }
   ],
   "source": [
    "# leggiamo file con i valori di logD\n",
    "filename2 = \"./data/data.xlsx\"\n",
    "logDtab = pd.read_excel(filename2)\n",
    "logD_dataframe = pd.DataFrame(logDtab)\n",
    "logD_dataframe_shape = np.shape(logD_dataframe)\n",
    "print(logD_dataframe_shape)\n",
    "print(logD_dataframe)"
   ]
  },
  {
   "cell_type": "code",
   "execution_count": 3,
   "metadata": {},
   "outputs": [
    {
     "name": "stdout",
     "output_type": "stream",
     "text": [
      "(1130, 360)\n"
     ]
    }
   ],
   "source": [
    "# merge dei 2 dataframe\n",
    "merged_dataframe = desc_iniziali.merge(logD_dataframe, left_on='Unique_ID', right_on='NO')\n",
    "merged_dataframe_shape = np.shape(merged_dataframe)\n",
    "print(merged_dataframe_shape)"
   ]
  },
  {
   "cell_type": "code",
   "execution_count": 4,
   "metadata": {},
   "outputs": [
    {
     "name": "stdout",
     "output_type": "stream",
     "text": [
      "                                                   mol      Unique_ID  \\\n",
      "20   S(=O)(=O)(C)c1cc(-c2c(n(/C=C/[C@@H](O)C[C@@H](...  A-logD7.4-131   \n",
      "31   Fc1ccc(-c2n(/C=C/[C@@H](O)C[C@@H](O)CC(=O)[O-]...  A-logD7.4-148   \n",
      "62   Fc1ccc(-c2n(/C=C/[C@@H](O)C[C@@H](O)CC(=O)[O-]...  A-logD7.4-192   \n",
      "97   Oc1cc2[C@@H]3C(c4cocc4)(c4cocc4)C[C@@H]([n+]4c...  A-logD7.4-251   \n",
      "130  Fc1ccc(-c2n(/C=C/[C@@H](O)C[C@@H](O)CC(=O)[O-]...  A-logD7.4-313   \n",
      "133  FC(F)(F)c1n(/C=C/[C@@H](O)C[C@@H](O)CC(=O)[O-]...  A-logD7.4-318   \n",
      "134  Fc1cc2[C@@H]3C(c4cocc4)(c4cocc4)C[C@@H]([n+]4c...  A-logD7.4-319   \n",
      "138  Fc1ccc(-c2n(/C=C/[C@@H](O)C[C@@H](O)CC(=O)[O-]...  A-logD7.4-327   \n",
      "140  Fc1cc(C)c(-c2n(/C=C/[C@@H](O)C[C@@H](O)CC(=O)[...  A-logD7.4-331   \n",
      "301  Clc1c(C)cc(-c2c(n(/C=C\\[C@@H](O)C[C@@H](O)CC(=...  A-logD7.4-558   \n",
      "965  O=C(OCC[N+](C(C)C)(C(C)C)C)C1c2c(Oc3c1cccc3)cc...          O-174   \n",
      "966  Nc1cc2[n+](CC)c(-c3ccccc3)c3c(c2cc1)ccc(N)c3.[...          O-175   \n",
      "967  O=C(OC1C[C@@H]2[N+](C)(C)[C@H](C1)CC2)C1c2c(Oc...          O-177   \n",
      "\n",
      "     AM1_dipole       AM1_E    AM1_Eele      AM1_HF  AM1_HOMO   AM1_IP  \\\n",
      "20     5.574853 -155301.620 -1368546.60 -293.097930  -8.70210  8.70210   \n",
      "31     9.342008 -133966.420 -1076599.00 -221.785220  -8.45148  8.45148   \n",
      "62     9.843028 -141148.360 -1202721.90 -230.142490  -8.10329  8.10329   \n",
      "97    13.996041 -109051.200  -888216.88   67.278297  -8.04338  8.04338   \n",
      "130    6.910322 -143335.700 -1160849.50 -273.938780  -8.62225  8.62225   \n",
      "133   13.512191 -168775.750 -1265073.20 -409.891780  -8.85538  8.85538   \n",
      "134    8.353615 -112538.830  -884917.69   56.538528  -8.80865  8.80865   \n",
      "138   44.251472 -143287.410 -1182254.10 -225.628780  -6.77284  6.77284   \n",
      "140    8.858940 -146929.750 -1269186.10 -281.192260  -8.36501  8.36501   \n",
      "301    5.305811 -147958.440 -1322743.00 -247.332120  -8.43252  8.43252   \n",
      "965   18.604969 -112439.410  -966763.25   -2.803310  -5.49230  5.49230   \n",
      "966    0.765256  -90790.469  -721601.25  127.839350  -7.69330  7.69330   \n",
      "967   12.229541 -111192.200  -946023.62  -15.229410  -7.23796  7.23796   \n",
      "\n",
      "     AM1_LUMO       apol  ...  vsurf_Wp7  vsurf_Wp8     Weight  weinerPath  \\\n",
      "20   -0.53922  98.499207  ...        0.0        0.0  538.57196        5352   \n",
      "31   -0.26770  89.574821  ...        0.0        0.0  461.46899        4015   \n",
      "62   -0.24293  95.761993  ...        0.0        0.0  489.52298        4660   \n",
      "97   -1.51417  58.168274  ...        0.0        0.0  391.85400        2224   \n",
      "130  -0.81118  90.791824  ...        0.0        0.0  478.47098        4346   \n",
      "133  -0.61969  84.275276  ...        0.0        0.0  504.38699        4618   \n",
      "134  -1.11958  57.256481  ...        0.0        0.0  393.84500        2224   \n",
      "138  -0.67427  90.791824  ...        0.0        0.0  478.47098        4374   \n",
      "140  -0.29242  93.885414  ...        0.0        0.0  492.49799        4620   \n",
      "301  -0.18046  98.601997  ...        0.0        0.0  522.97998        4972   \n",
      "965  -0.83402  67.039787  ...        0.0        0.0  448.40100        2606   \n",
      "966  -0.10296  56.645859  ...        0.0        0.0  394.31598        1750   \n",
      "967  -0.43344  64.372620  ...        0.0        0.0  444.36899        2507   \n",
      "\n",
      "     weinerPol  zagreb             NO  DatasetID  \\\n",
      "20          56     186  A-logD7.4-131         Tr   \n",
      "31          48     162  A-logD7.4-148         Tr   \n",
      "62          52     172  A-logD7.4-192         Te   \n",
      "97          53     162  A-logD7.4-251         Tr   \n",
      "130         50     168  A-logD7.4-313         Tr   \n",
      "133         52     176  A-logD7.4-318         Tr   \n",
      "134         53     162  A-logD7.4-319         Tr   \n",
      "138         50     168  A-logD7.4-327         Tr   \n",
      "140         53     174  A-logD7.4-331         Tr   \n",
      "301         56     180  A-logD7.4-558         Tr   \n",
      "965         48     142          O-174         Tr   \n",
      "966         44     132          O-175         Tr   \n",
      "967         50     156          O-177         Tr   \n",
      "\n",
      "                                                SMILES  LogD  \n",
      "20   S(=O)(=O)(C)c1cc(ccc1)-c1nc(n(\\C=C\\[C@@H](O)C[... -0.60  \n",
      "31   [Na+].Fc1ccc(cc1)-c1n(\\C=C\\[C@@H](O)C[C@@H](O)... -0.43  \n",
      "62   [Na+].Fc1ccc(cc1)-c1n(\\C=C\\[C@@H](O)C[C@@H](O)... -0.05  \n",
      "97   [Cl-].o1cc(cc1)C1(C2c3cc(O)ccc3C([n+]3c2cccc3)...  0.32  \n",
      "130  [Na+].Fc1ccc(cc1)-c1n(\\C=C\\[C@@H](O)C[C@@H](O)...  0.72  \n",
      "133  [Na+].Fc1ccc(cc1)-c1n(\\C=C\\[C@@H](O)C[C@@H](O)...  0.73  \n",
      "134  [Cl-].Fc1cc2C3c4[n+](C(CC3(c3ccoc3)c3ccoc3)c2c...  0.75  \n",
      "138  [Na+].Fc1ccc(cc1)-c1nc(n(\\C=C\\[C@@H](O)C[C@@H]...  0.83  \n",
      "140  [Na+].Fc1cc(C)c(cc1)-c1n(\\C=C\\[C@@H](O)C[C@@H]...  0.86  \n",
      "301  Clc1c(cc(cc1C)-c1nc(n(\\C=C\\[C@@H](O)C[C@@H](O)...  2.27  \n",
      "965  [Br-].O1c2c(cccc2)C(c2c1cccc2)C(OCC[N+](C(C)C)... -1.07  \n",
      "966  [Br-].[n+]1(c2cc(N)ccc2c2c(cc(N)cc2)c1-c1ccccc... -1.10  \n",
      "967  [Br-].O1c2c(cccc2)C(c2c1cccc2)C(OC1CC2[N+](C(C... -1.45  \n",
      "\n",
      "[13 rows x 360 columns]\n",
      "(1117, 356)\n",
      "(1117, 355)\n"
     ]
    }
   ],
   "source": [
    "# togliamo le 13 molecole\n",
    "dataset_senza13 = merged_dataframe[merged_dataframe['nmol'] == 2]\n",
    "print(dataset_senza13)\n",
    "desc_SENZA13EFFETTIVAMENTE = desc_iniziali.drop(desc_iniziali.index[[20,31,62,97,130,133,134,138,140,301,965,966,967]])\n",
    "desc_SENZA13EFFETTIVAMENTE_shape = np.shape(desc_SENZA13EFFETTIVAMENTE)\n",
    "print(desc_SENZA13EFFETTIVAMENTE_shape)\n",
    "\n",
    "# togliamo la colonna nmol \n",
    "dataset_senza13nmol = desc_SENZA13EFFETTIVAMENTE.drop('nmol', axis=1)\n",
    "dataset_senza13nmol_shape = np.shape(dataset_senza13nmol)\n",
    "print(dataset_senza13nmol_shape)"
   ]
  },
  {
   "cell_type": "code",
   "execution_count": 5,
   "metadata": {},
   "outputs": [],
   "source": [
    "dataset_senza13nmol.to_excel('merged_out13nmol.xlsx')"
   ]
  },
  {
   "cell_type": "code",
   "execution_count": 13,
   "metadata": {},
   "outputs": [
    {
     "name": "stdout",
     "output_type": "stream",
     "text": [
      "      LogD\n",
      "0      NaN\n",
      "1      NaN\n",
      "2      NaN\n",
      "3      NaN\n",
      "4      NaN\n",
      "...    ...\n",
      "1125   NaN\n",
      "1126   NaN\n",
      "1127   NaN\n",
      "1128   NaN\n",
      "1129   NaN\n",
      "\n",
      "[1117 rows x 1 columns]\n"
     ]
    }
   ],
   "source": [
    "ydata = pd.DataFrame(dataset_senza13nmol, columns=['LogD'])\n",
    "print(ydata)"
   ]
  },
  {
   "cell_type": "code",
   "execution_count": null,
   "metadata": {},
   "outputs": [],
   "source": []
  }
 ],
 "metadata": {
  "kernelspec": {
   "display_name": "Python 3",
   "language": "python",
   "name": "python3"
  },
  "language_info": {
   "codemirror_mode": {
    "name": "ipython",
    "version": 3
   },
   "file_extension": ".py",
   "mimetype": "text/x-python",
   "name": "python",
   "nbconvert_exporter": "python",
   "pygments_lexer": "ipython3",
   "version": "3.8.2"
  }
 },
 "nbformat": 4,
 "nbformat_minor": 4
}
