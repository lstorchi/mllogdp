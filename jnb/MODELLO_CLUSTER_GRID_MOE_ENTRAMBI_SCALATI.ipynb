{
 "cells": [
  {
   "cell_type": "code",
   "execution_count": 24,
   "metadata": {},
   "outputs": [],
   "source": [
    "def r2_rmse_vals( Y_true, Y_pred, label ) :\n",
    "    # (ypred-ytrue) squared numeratore\n",
    "    diff_numeratore = []\n",
    "    for idx, v in enumerate ( Y_pred ):\n",
    "        diff_nu = v-Y_true[idx]\n",
    "        diff_numeratore.append( diff_nu )\n",
    "    diff_numeratore_SQUARED = []\n",
    "    for v in diff_numeratore :\n",
    "        v = v**2\n",
    "        diff_numeratore_SQUARED.append( v )\n",
    "    # numero elememti y_true ( per fare la media )\n",
    "    num_elementi = 0\n",
    "    for v in Y_true :\n",
    "        num_elementi = num_elementi + 1\n",
    "    # sommatoria elememti media \n",
    "    somma = 0\n",
    "    for v in Y_true :\n",
    "        somma = somma + v\n",
    "    media = somma/num_elementi\n",
    "    # sopra ho calcolato la media ( vedi denominatore )\n",
    "    # sommatoria diff denominatore squared \n",
    "    diff_denominatore = []\n",
    "    for idx, v in enumerate ( Y_true ):\n",
    "        diff_de = v-media \n",
    "        diff_denominatore.append( diff_de )\n",
    "    diff_denominatore_SQUARED = []\n",
    "    for v in diff_denominatore :\n",
    "        v = v**2\n",
    "        diff_denominatore_SQUARED.append( v )\n",
    "    sommatoria_numeratore = 0\n",
    "    for v in diff_numeratore_SQUARED :\n",
    "        sommatoria_numeratore = sommatoria_numeratore+v\n",
    "    sommatoria_denominatore = 0\n",
    "    for v in diff_denominatore_SQUARED :\n",
    "        sommatoria_denominatore = sommatoria_denominatore+v\n",
    "    # r2_val \n",
    "    r2 = 1-(sommatoria_numeratore/sommatoria_denominatore)\n",
    "    print(\"r2 su\",label,\"set è :\", r2 )\n",
    "    # y_true-y_pred SQUARED \n",
    "    diff_rmse_numeratore = []\n",
    "    for idx, v in enumerate ( Y_true ) :\n",
    "        diff_rmse_numeratore.append( v-Y_pred[idx] )\n",
    "    diff_rmse_numeratore_SQUARED = []\n",
    "    for v in diff_rmse_numeratore :\n",
    "        v = v**2\n",
    "        diff_rmse_numeratore_SQUARED.append( v )\n",
    "    sommatoria_diff_rmse = 0\n",
    "    for v in diff_rmse_numeratore_SQUARED :\n",
    "        sommatoria_diff_rmse = sommatoria_diff_rmse+v\n",
    "    # RMSE\n",
    "    rmse = (sommatoria_diff_rmse/num_elementi)**0.5\n",
    "    print(\"rmse su\",label,\"set è :\", rmse )   "
   ]
  },
  {
   "cell_type": "code",
   "execution_count": 25,
   "metadata": {},
   "outputs": [
    {
     "data": {
      "text/html": [
       "<div>\n",
       "<style scoped>\n",
       "    .dataframe tbody tr th:only-of-type {\n",
       "        vertical-align: middle;\n",
       "    }\n",
       "\n",
       "    .dataframe tbody tr th {\n",
       "        vertical-align: top;\n",
       "    }\n",
       "\n",
       "    .dataframe thead th {\n",
       "        text-align: right;\n",
       "    }\n",
       "</style>\n",
       "<table border=\"1\" class=\"dataframe\">\n",
       "  <thead>\n",
       "    <tr style=\"text-align: right;\">\n",
       "      <th></th>\n",
       "      <th>Unnamed: 0</th>\n",
       "      <th>Unnamed: 0.1</th>\n",
       "      <th>UNIQUEID</th>\n",
       "      <th>SMILE</th>\n",
       "      <th>SETID</th>\n",
       "      <th>DESCRIPTOR</th>\n",
       "      <th>LOGD</th>\n",
       "      <th>mol</th>\n",
       "      <th>AM1_dipole</th>\n",
       "      <th>AM1_E</th>\n",
       "      <th>...</th>\n",
       "      <th>vsurf_Wp3</th>\n",
       "      <th>vsurf_Wp4</th>\n",
       "      <th>vsurf_Wp5</th>\n",
       "      <th>vsurf_Wp6</th>\n",
       "      <th>vsurf_Wp7</th>\n",
       "      <th>vsurf_Wp8</th>\n",
       "      <th>Weight</th>\n",
       "      <th>weinerPath</th>\n",
       "      <th>weinerPol</th>\n",
       "      <th>zagreb</th>\n",
       "    </tr>\n",
       "  </thead>\n",
       "  <tbody>\n",
       "    <tr>\n",
       "      <th>0</th>\n",
       "      <td>0</td>\n",
       "      <td>0</td>\n",
       "      <td>A-logD7.4-100</td>\n",
       "      <td>Fc1cc2c(N(C=C(C(O)=O)C2=O)C2CC2)cc1N1CCNCC1</td>\n",
       "      <td>Tr</td>\n",
       "      <td>1     0     0     0     0     0     0     0   ...</td>\n",
       "      <td>-0.960</td>\n",
       "      <td>Fc1c(N2CCNCC2)cc2N(C3CC3)C=C(C(=O)O)C(=O)c2c1</td>\n",
       "      <td>7.750276</td>\n",
       "      <td>-103541.820</td>\n",
       "      <td>...</td>\n",
       "      <td>75.625</td>\n",
       "      <td>12.500</td>\n",
       "      <td>4.500</td>\n",
       "      <td>0.625</td>\n",
       "      <td>0.0</td>\n",
       "      <td>0.0</td>\n",
       "      <td>331.34698</td>\n",
       "      <td>1234</td>\n",
       "      <td>43</td>\n",
       "      <td>134</td>\n",
       "    </tr>\n",
       "    <tr>\n",
       "      <th>1</th>\n",
       "      <td>1</td>\n",
       "      <td>1</td>\n",
       "      <td>A-logD7.4-101</td>\n",
       "      <td>S1(=O)(=O)N(CCN1C)c1cc2c([nH]cc2CCN(C)C)cc1</td>\n",
       "      <td>Tr</td>\n",
       "      <td>1     0     0     0     0     0     0     0   ...</td>\n",
       "      <td>-0.920</td>\n",
       "      <td>O=S1(=O)N(C)CCN1c1cc2c(CCN(C)C)c[nH]c2cc1</td>\n",
       "      <td>4.358144</td>\n",
       "      <td>-89582.016</td>\n",
       "      <td>...</td>\n",
       "      <td>74.125</td>\n",
       "      <td>10.500</td>\n",
       "      <td>2.500</td>\n",
       "      <td>0.000</td>\n",
       "      <td>0.0</td>\n",
       "      <td>0.0</td>\n",
       "      <td>322.43298</td>\n",
       "      <td>1055</td>\n",
       "      <td>35</td>\n",
       "      <td>120</td>\n",
       "    </tr>\n",
       "    <tr>\n",
       "      <th>2</th>\n",
       "      <td>2</td>\n",
       "      <td>2</td>\n",
       "      <td>A-logD7.4-104</td>\n",
       "      <td>OC=1C(=O)C=CN(CCCO)C=1C</td>\n",
       "      <td>Tr</td>\n",
       "      <td>1     0     0     0     0     0     0     0   ...</td>\n",
       "      <td>-0.900</td>\n",
       "      <td>O=C1C(O)=C(C)N(CCCO)C=C1</td>\n",
       "      <td>5.544390</td>\n",
       "      <td>-57643.316</td>\n",
       "      <td>...</td>\n",
       "      <td>29.625</td>\n",
       "      <td>6.125</td>\n",
       "      <td>1.125</td>\n",
       "      <td>0.000</td>\n",
       "      <td>0.0</td>\n",
       "      <td>0.0</td>\n",
       "      <td>183.20700</td>\n",
       "      <td>254</td>\n",
       "      <td>18</td>\n",
       "      <td>60</td>\n",
       "    </tr>\n",
       "    <tr>\n",
       "      <th>3</th>\n",
       "      <td>3</td>\n",
       "      <td>3</td>\n",
       "      <td>A-logD7.4-105</td>\n",
       "      <td>Fc1cc2c(N(C=C(C(O)=O)C2=O)c2ccccc2C)cc1N1CCNCC1</td>\n",
       "      <td>Tr</td>\n",
       "      <td>1     0     0     0     0     0     0     0   ...</td>\n",
       "      <td>-0.830</td>\n",
       "      <td>Fc1c(N2CCNCC2)cc2N(c3c(C)cccc3)C=C(C(=O)O)C(=O...</td>\n",
       "      <td>8.887918</td>\n",
       "      <td>-116000.170</td>\n",
       "      <td>...</td>\n",
       "      <td>84.375</td>\n",
       "      <td>11.500</td>\n",
       "      <td>4.125</td>\n",
       "      <td>0.625</td>\n",
       "      <td>0.0</td>\n",
       "      <td>0.0</td>\n",
       "      <td>381.40698</td>\n",
       "      <td>1842</td>\n",
       "      <td>51</td>\n",
       "      <td>152</td>\n",
       "    </tr>\n",
       "    <tr>\n",
       "      <th>4</th>\n",
       "      <td>4</td>\n",
       "      <td>4</td>\n",
       "      <td>A-logD7.4-106</td>\n",
       "      <td>OC=1C(=O)C=CN(CCC(=O)NCC)C=1C</td>\n",
       "      <td>Tr</td>\n",
       "      <td>1     0     0     0     0     0     0     0   ...</td>\n",
       "      <td>-0.820</td>\n",
       "      <td>O=C(NCC)CCN1C(C)=C(O)C(=O)C=C1</td>\n",
       "      <td>6.219123</td>\n",
       "      <td>-69271.062</td>\n",
       "      <td>...</td>\n",
       "      <td>56.875</td>\n",
       "      <td>14.125</td>\n",
       "      <td>3.125</td>\n",
       "      <td>0.000</td>\n",
       "      <td>0.0</td>\n",
       "      <td>0.0</td>\n",
       "      <td>224.25999</td>\n",
       "      <td>483</td>\n",
       "      <td>22</td>\n",
       "      <td>74</td>\n",
       "    </tr>\n",
       "    <tr>\n",
       "      <th>...</th>\n",
       "      <td>...</td>\n",
       "      <td>...</td>\n",
       "      <td>...</td>\n",
       "      <td>...</td>\n",
       "      <td>...</td>\n",
       "      <td>...</td>\n",
       "      <td>...</td>\n",
       "      <td>...</td>\n",
       "      <td>...</td>\n",
       "      <td>...</td>\n",
       "      <td>...</td>\n",
       "      <td>...</td>\n",
       "      <td>...</td>\n",
       "      <td>...</td>\n",
       "      <td>...</td>\n",
       "      <td>...</td>\n",
       "      <td>...</td>\n",
       "      <td>...</td>\n",
       "      <td>...</td>\n",
       "      <td>...</td>\n",
       "      <td>...</td>\n",
       "    </tr>\n",
       "    <tr>\n",
       "      <th>1073</th>\n",
       "      <td>1086</td>\n",
       "      <td>1086</td>\n",
       "      <td>O-88</td>\n",
       "      <td>O(CC(O)CNC(C)C)c1ccccc1CC=C</td>\n",
       "      <td>Tr</td>\n",
       "      <td>1     0     0     0     0     0     0     0   ...</td>\n",
       "      <td>1.000</td>\n",
       "      <td>O(C[C@@H](O)CNC(C)C)c1c(CC=C)cccc1</td>\n",
       "      <td>0.588812</td>\n",
       "      <td>-71140.453</td>\n",
       "      <td>...</td>\n",
       "      <td>56.500</td>\n",
       "      <td>14.250</td>\n",
       "      <td>3.625</td>\n",
       "      <td>0.750</td>\n",
       "      <td>0.0</td>\n",
       "      <td>0.0</td>\n",
       "      <td>249.35399</td>\n",
       "      <td>711</td>\n",
       "      <td>21</td>\n",
       "      <td>80</td>\n",
       "    </tr>\n",
       "    <tr>\n",
       "      <th>1074</th>\n",
       "      <td>1087</td>\n",
       "      <td>1087</td>\n",
       "      <td>O-9</td>\n",
       "      <td>O1CCC[C@H]1C(=O)N1CCN(CC1)c1nc(N)c2cc(OC)c(OC)...</td>\n",
       "      <td>Tr</td>\n",
       "      <td>1     0     0     0     0     0     0     0   ...</td>\n",
       "      <td>1.140</td>\n",
       "      <td>O=C(N1CCN(c2nc(N)c3c(n2)cc(OC)c(OC)c3)CC1)[C@H...</td>\n",
       "      <td>2.551292</td>\n",
       "      <td>-117421.360</td>\n",
       "      <td>...</td>\n",
       "      <td>126.125</td>\n",
       "      <td>25.375</td>\n",
       "      <td>8.875</td>\n",
       "      <td>1.375</td>\n",
       "      <td>0.0</td>\n",
       "      <td>0.0</td>\n",
       "      <td>387.44000</td>\n",
       "      <td>2195</td>\n",
       "      <td>47</td>\n",
       "      <td>150</td>\n",
       "    </tr>\n",
       "    <tr>\n",
       "      <th>1075</th>\n",
       "      <td>1088</td>\n",
       "      <td>1088</td>\n",
       "      <td>O-94</td>\n",
       "      <td>O1c2c(C=CC1=O)cccc2</td>\n",
       "      <td>Tr</td>\n",
       "      <td>1     0     0     0     0     0     0     0   ...</td>\n",
       "      <td>1.415</td>\n",
       "      <td>O=C1Oc2c(cccc2)C=C1</td>\n",
       "      <td>4.817789</td>\n",
       "      <td>-43230.504</td>\n",
       "      <td>...</td>\n",
       "      <td>2.875</td>\n",
       "      <td>0.000</td>\n",
       "      <td>0.000</td>\n",
       "      <td>0.000</td>\n",
       "      <td>0.0</td>\n",
       "      <td>0.0</td>\n",
       "      <td>146.14499</td>\n",
       "      <td>144</td>\n",
       "      <td>14</td>\n",
       "      <td>56</td>\n",
       "    </tr>\n",
       "    <tr>\n",
       "      <th>1076</th>\n",
       "      <td>1089</td>\n",
       "      <td>1089</td>\n",
       "      <td>O-97</td>\n",
       "      <td>Clc1cccc(Cl)c1C=NN=C(N)N</td>\n",
       "      <td>Te</td>\n",
       "      <td>1     0     0     0     0     0     0     0   ...</td>\n",
       "      <td>1.670</td>\n",
       "      <td>Clc1c(C=N/N=C(\\N)/N)c(Cl)ccc1</td>\n",
       "      <td>2.182817</td>\n",
       "      <td>-62454.488</td>\n",
       "      <td>...</td>\n",
       "      <td>156.875</td>\n",
       "      <td>43.875</td>\n",
       "      <td>12.250</td>\n",
       "      <td>0.875</td>\n",
       "      <td>0.0</td>\n",
       "      <td>0.0</td>\n",
       "      <td>231.08600</td>\n",
       "      <td>331</td>\n",
       "      <td>17</td>\n",
       "      <td>64</td>\n",
       "    </tr>\n",
       "    <tr>\n",
       "      <th>1077</th>\n",
       "      <td>1090</td>\n",
       "      <td>1090</td>\n",
       "      <td>O-98</td>\n",
       "      <td>OC1(CCC2C3C(C4(C(=CC(=O)CC4)CC3)C)C(O)CC12C)C(...</td>\n",
       "      <td>Tr</td>\n",
       "      <td>1     0     0     0     0     0     0     0   ...</td>\n",
       "      <td>1.530</td>\n",
       "      <td>O=C(CO)[C@@]1(O)[C@@]2(C)[C@@H]([C@@H]3[C@@H](...</td>\n",
       "      <td>5.605708</td>\n",
       "      <td>-108510.510</td>\n",
       "      <td>...</td>\n",
       "      <td>55.375</td>\n",
       "      <td>11.625</td>\n",
       "      <td>2.375</td>\n",
       "      <td>0.000</td>\n",
       "      <td>0.0</td>\n",
       "      <td>0.0</td>\n",
       "      <td>362.46600</td>\n",
       "      <td>1425</td>\n",
       "      <td>59</td>\n",
       "      <td>154</td>\n",
       "    </tr>\n",
       "  </tbody>\n",
       "</table>\n",
       "<p>1078 rows × 362 columns</p>\n",
       "</div>"
      ],
      "text/plain": [
       "      Unnamed: 0  Unnamed: 0.1       UNIQUEID  \\\n",
       "0              0             0  A-logD7.4-100   \n",
       "1              1             1  A-logD7.4-101   \n",
       "2              2             2  A-logD7.4-104   \n",
       "3              3             3  A-logD7.4-105   \n",
       "4              4             4  A-logD7.4-106   \n",
       "...          ...           ...            ...   \n",
       "1073        1086          1086           O-88   \n",
       "1074        1087          1087            O-9   \n",
       "1075        1088          1088           O-94   \n",
       "1076        1089          1089           O-97   \n",
       "1077        1090          1090           O-98   \n",
       "\n",
       "                                                  SMILE SETID  \\\n",
       "0           Fc1cc2c(N(C=C(C(O)=O)C2=O)C2CC2)cc1N1CCNCC1    Tr   \n",
       "1           S1(=O)(=O)N(CCN1C)c1cc2c([nH]cc2CCN(C)C)cc1    Tr   \n",
       "2                               OC=1C(=O)C=CN(CCCO)C=1C    Tr   \n",
       "3       Fc1cc2c(N(C=C(C(O)=O)C2=O)c2ccccc2C)cc1N1CCNCC1    Tr   \n",
       "4                         OC=1C(=O)C=CN(CCC(=O)NCC)C=1C    Tr   \n",
       "...                                                 ...   ...   \n",
       "1073                        O(CC(O)CNC(C)C)c1ccccc1CC=C    Tr   \n",
       "1074  O1CCC[C@H]1C(=O)N1CCN(CC1)c1nc(N)c2cc(OC)c(OC)...    Tr   \n",
       "1075                                O1c2c(C=CC1=O)cccc2    Tr   \n",
       "1076                           Clc1cccc(Cl)c1C=NN=C(N)N    Te   \n",
       "1077  OC1(CCC2C3C(C4(C(=CC(=O)CC4)CC3)C)C(O)CC12C)C(...    Tr   \n",
       "\n",
       "                                             DESCRIPTOR   LOGD  \\\n",
       "0     1     0     0     0     0     0     0     0   ... -0.960   \n",
       "1     1     0     0     0     0     0     0     0   ... -0.920   \n",
       "2     1     0     0     0     0     0     0     0   ... -0.900   \n",
       "3     1     0     0     0     0     0     0     0   ... -0.830   \n",
       "4     1     0     0     0     0     0     0     0   ... -0.820   \n",
       "...                                                 ...    ...   \n",
       "1073  1     0     0     0     0     0     0     0   ...  1.000   \n",
       "1074  1     0     0     0     0     0     0     0   ...  1.140   \n",
       "1075  1     0     0     0     0     0     0     0   ...  1.415   \n",
       "1076  1     0     0     0     0     0     0     0   ...  1.670   \n",
       "1077  1     0     0     0     0     0     0     0   ...  1.530   \n",
       "\n",
       "                                                    mol  AM1_dipole  \\\n",
       "0         Fc1c(N2CCNCC2)cc2N(C3CC3)C=C(C(=O)O)C(=O)c2c1    7.750276   \n",
       "1             O=S1(=O)N(C)CCN1c1cc2c(CCN(C)C)c[nH]c2cc1    4.358144   \n",
       "2                              O=C1C(O)=C(C)N(CCCO)C=C1    5.544390   \n",
       "3     Fc1c(N2CCNCC2)cc2N(c3c(C)cccc3)C=C(C(=O)O)C(=O...    8.887918   \n",
       "4                        O=C(NCC)CCN1C(C)=C(O)C(=O)C=C1    6.219123   \n",
       "...                                                 ...         ...   \n",
       "1073                 O(C[C@@H](O)CNC(C)C)c1c(CC=C)cccc1    0.588812   \n",
       "1074  O=C(N1CCN(c2nc(N)c3c(n2)cc(OC)c(OC)c3)CC1)[C@H...    2.551292   \n",
       "1075                                O=C1Oc2c(cccc2)C=C1    4.817789   \n",
       "1076                      Clc1c(C=N/N=C(\\N)/N)c(Cl)ccc1    2.182817   \n",
       "1077  O=C(CO)[C@@]1(O)[C@@]2(C)[C@@H]([C@@H]3[C@@H](...    5.605708   \n",
       "\n",
       "           AM1_E  ...  vsurf_Wp3  vsurf_Wp4  vsurf_Wp5  vsurf_Wp6  vsurf_Wp7  \\\n",
       "0    -103541.820  ...     75.625     12.500      4.500      0.625        0.0   \n",
       "1     -89582.016  ...     74.125     10.500      2.500      0.000        0.0   \n",
       "2     -57643.316  ...     29.625      6.125      1.125      0.000        0.0   \n",
       "3    -116000.170  ...     84.375     11.500      4.125      0.625        0.0   \n",
       "4     -69271.062  ...     56.875     14.125      3.125      0.000        0.0   \n",
       "...          ...  ...        ...        ...        ...        ...        ...   \n",
       "1073  -71140.453  ...     56.500     14.250      3.625      0.750        0.0   \n",
       "1074 -117421.360  ...    126.125     25.375      8.875      1.375        0.0   \n",
       "1075  -43230.504  ...      2.875      0.000      0.000      0.000        0.0   \n",
       "1076  -62454.488  ...    156.875     43.875     12.250      0.875        0.0   \n",
       "1077 -108510.510  ...     55.375     11.625      2.375      0.000        0.0   \n",
       "\n",
       "      vsurf_Wp8     Weight  weinerPath  weinerPol  zagreb  \n",
       "0           0.0  331.34698        1234         43     134  \n",
       "1           0.0  322.43298        1055         35     120  \n",
       "2           0.0  183.20700         254         18      60  \n",
       "3           0.0  381.40698        1842         51     152  \n",
       "4           0.0  224.25999         483         22      74  \n",
       "...         ...        ...         ...        ...     ...  \n",
       "1073        0.0  249.35399         711         21      80  \n",
       "1074        0.0  387.44000        2195         47     150  \n",
       "1075        0.0  146.14499         144         14      56  \n",
       "1076        0.0  231.08600         331         17      64  \n",
       "1077        0.0  362.46600        1425         59     154  \n",
       "\n",
       "[1078 rows x 362 columns]"
      ]
     },
     "execution_count": 25,
     "metadata": {},
     "output_type": "execute_result"
    }
   ],
   "source": [
    "import pandas as pd\n",
    "file = './data/MOE_GRID_1078.xlsx'\n",
    "file_read = pd.read_excel(file)\n",
    "file_dataframe = pd.DataFrame(file_read)\n",
    "file_dataframe"
   ]
  },
  {
   "cell_type": "code",
   "execution_count": 26,
   "metadata": {},
   "outputs": [
    {
     "name": "stdout",
     "output_type": "stream",
     "text": [
      "G  : \n",
      "   (1078,) (1078, 1879)\n",
      "M  : \n",
      "   (1078,) (1078, 28)\n",
      "GM  : \n",
      "   (1078,) (1078, 1907)\n",
      "GTr  : \n",
      "   (865,) (865, 1879)\n",
      "GTe  : \n",
      "   (213,) (213, 1879)\n",
      "MTe  : \n",
      "   (213,) (213, 28)\n",
      "MTr  : \n",
      "   (865,) (865, 28)\n",
      "GMTe  : \n",
      "   (213,) (213, 1907)\n",
      "GMTr  : \n",
      "   (865,) (865, 1907)\n"
     ]
    }
   ],
   "source": [
    "import numpy as np \n",
    "import string\n",
    "\n",
    "\n",
    "list_of_desc = [\"a_acc\", \\\n",
    "                  \"bpol\", \\\n",
    "                  \"b_double\", \\\n",
    "                  \"b_rotN\", \\\n",
    "                  \"b_rotR\", \\\n",
    "                  \"chi1_C\", \\\n",
    "                  \"diameter\", \\\n",
    "                  \"logP(o/w)\", \\\n",
    "                  \"logS\", \\\n",
    "                  \"PEOE_VSA+0\", \\\n",
    "                  \"PEOE_VSA+3\", \\\n",
    "                  \"PEOE_VSA-0\", \\\n",
    "                  \"PEOE_VSA-2\", \\\n",
    "                  \"PEOE_VSA-5\", \\\n",
    "                  \"PEOE_VSA_POS\", \\\n",
    "                  \"SlogP_VSA0\", \\\n",
    "                  \"SlogP_VSA1\", \\\n",
    "                  \"SlogP_VSA2\", \\\n",
    "                  \"SlogP_VSA3\", \\\n",
    "                  \"SlogP_VSA4\", \\\n",
    "                  \"SlogP_VSA8\", \\\n",
    "                  \"SMR_VSA1\", \\\n",
    "                  \"SMR_VSA6\", \\\n",
    "                  \"TPSA\", \\\n",
    "                  \"vsa_acc\", \\\n",
    "                  \"vsa_other\", \\\n",
    "                  \"vsa_pol\", \\\n",
    "                  \"weinerPol\", \\\n",
    "                  \"DESCRIPTOR\"]\n",
    "                \n",
    "basicname = [\"G\", \"M\", \"GM\", \\\n",
    "             \"GTr\", \"GTe\", \\\n",
    "             \"MTe\", \"MTr\", \\\n",
    "             \"GMTe\", \"GMTr\"]\n",
    "\n",
    "X = {}\n",
    "Y = {}\n",
    "setid = {}\n",
    "uniqueid = {}\n",
    "\n",
    "for bn in basicname:\n",
    "    X[bn] = []\n",
    "    Y[bn] = []\n",
    "    setid[bn] = []\n",
    "    uniqueid[bn] = []\n",
    "\n",
    "for idx, ss in enumerate(file_read[\"UNIQUEID\"]):\n",
    "    \n",
    "    fdesc = file_read[file_read[\"UNIQUEID\"] == ss]\n",
    "    \n",
    "    xval = {}\n",
    "    for bn in basicname:\n",
    "        xval[bn] = []\n",
    "\n",
    "    for d in list_of_desc:\n",
    "        if d == \"DESCRIPTOR\":\n",
    "            nvs = fdesc[d].values[0].split()\n",
    "            xval[\"GM\"].extend([float(nv) for nv in nvs])  \n",
    "            xval[\"G\"].extend([float(nv) for nv in nvs])  \n",
    "            xval[\"GMTr\"].extend([float(nv) for nv in nvs])  \n",
    "            xval[\"GTr\"].extend([float(nv) for nv in nvs])  \n",
    "            xval[\"GMTe\"].extend([float(nv) for nv in nvs])  \n",
    "            xval[\"GTe\"].extend([float(nv) for nv in nvs])  \n",
    "        else:\n",
    "            xval[\"GM\"].append(fdesc[d].values[0])\n",
    "            xval[\"M\"].append(fdesc[d].values[0])\n",
    "            xval[\"GMTr\"].append(fdesc[d].values[0])\n",
    "            xval[\"MTr\"].append(fdesc[d].values[0])\n",
    "            xval[\"GMTe\"].append(fdesc[d].values[0])\n",
    "            xval[\"MTe\"].append(fdesc[d].values[0])\n",
    "            \n",
    "    y = file_read[file_read[\"UNIQUEID\"] == ss]['LOGD'].values[0]\n",
    "    sid = file_read[file_read[\"UNIQUEID\"] == ss]['SETID'].values[0]\n",
    "    uid = file_read[file_read[\"UNIQUEID\"] == ss]['UNIQUEID'].values[0]\n",
    "    \n",
    "    for bn in [\"GM\", \"G\", \"M\"]:\n",
    "        X[bn].append(xval[bn])\n",
    "        Y[bn].append(y)\n",
    "        setid[bn].append(sid)\n",
    "        uniqueid[bn].append(uid)\n",
    "        \n",
    "    if (sid == \"Tr\"):\n",
    "        for bn in [\"GMTr\", \"GTr\", \"MTr\"]:\n",
    "            X[bn].append(xval[bn])\n",
    "            Y[bn].append(y)\n",
    "            setid[bn].append(sid)\n",
    "            uniqueid[bn].append(uid)\n",
    "    elif (sid == \"Te\"):\n",
    "        for bn in [\"GMTe\", \"GTe\", \"MTe\"]:\n",
    "            X[bn].append(xval[bn])\n",
    "            Y[bn].append(y)\n",
    "            setid[bn].append(sid)\n",
    "            uniqueid[bn].append(uid)\n",
    "\n",
    "\n",
    "for bn in basicname:\n",
    "    print(bn, \" : \")\n",
    "    print(\"  \", np.asarray(Y[bn]).shape, np.asarray(X[bn]).shape )  "
   ]
  },
  {
   "cell_type": "code",
   "execution_count": 27,
   "metadata": {},
   "outputs": [
    {
     "data": {
      "text/html": [
       "<div>\n",
       "<style scoped>\n",
       "    .dataframe tbody tr th:only-of-type {\n",
       "        vertical-align: middle;\n",
       "    }\n",
       "\n",
       "    .dataframe tbody tr th {\n",
       "        vertical-align: top;\n",
       "    }\n",
       "\n",
       "    .dataframe thead th {\n",
       "        text-align: right;\n",
       "    }\n",
       "</style>\n",
       "<table border=\"1\" class=\"dataframe\">\n",
       "  <thead>\n",
       "    <tr style=\"text-align: right;\">\n",
       "      <th></th>\n",
       "      <th>Unnamed: 0</th>\n",
       "      <th>UNIQUEID</th>\n",
       "      <th>SMILE</th>\n",
       "      <th>KMeans_labels</th>\n",
       "    </tr>\n",
       "  </thead>\n",
       "  <tbody>\n",
       "    <tr>\n",
       "      <th>0</th>\n",
       "      <td>0</td>\n",
       "      <td>A-logD7.4-100</td>\n",
       "      <td>Fc1cc2c(N(C=C(C(O)=O)C2=O)C2CC2)cc1N1CCNCC1</td>\n",
       "      <td>2</td>\n",
       "    </tr>\n",
       "    <tr>\n",
       "      <th>1</th>\n",
       "      <td>1</td>\n",
       "      <td>A-logD7.4-101</td>\n",
       "      <td>S1(=O)(=O)N(CCN1C)c1cc2c([nH]cc2CCN(C)C)cc1</td>\n",
       "      <td>2</td>\n",
       "    </tr>\n",
       "    <tr>\n",
       "      <th>2</th>\n",
       "      <td>2</td>\n",
       "      <td>A-logD7.4-104</td>\n",
       "      <td>OC=1C(=O)C=CN(CCCO)C=1C</td>\n",
       "      <td>2</td>\n",
       "    </tr>\n",
       "    <tr>\n",
       "      <th>3</th>\n",
       "      <td>3</td>\n",
       "      <td>A-logD7.4-105</td>\n",
       "      <td>Fc1cc2c(N(C=C(C(O)=O)C2=O)c2ccccc2C)cc1N1CCNCC1</td>\n",
       "      <td>2</td>\n",
       "    </tr>\n",
       "    <tr>\n",
       "      <th>4</th>\n",
       "      <td>4</td>\n",
       "      <td>A-logD7.4-106</td>\n",
       "      <td>OC=1C(=O)C=CN(CCC(=O)NCC)C=1C</td>\n",
       "      <td>2</td>\n",
       "    </tr>\n",
       "    <tr>\n",
       "      <th>...</th>\n",
       "      <td>...</td>\n",
       "      <td>...</td>\n",
       "      <td>...</td>\n",
       "      <td>...</td>\n",
       "    </tr>\n",
       "    <tr>\n",
       "      <th>1073</th>\n",
       "      <td>1073</td>\n",
       "      <td>O-88</td>\n",
       "      <td>O(CC(O)CNC(C)C)c1ccccc1CC=C</td>\n",
       "      <td>2</td>\n",
       "    </tr>\n",
       "    <tr>\n",
       "      <th>1074</th>\n",
       "      <td>1074</td>\n",
       "      <td>O-9</td>\n",
       "      <td>O1CCC[C@H]1C(=O)N1CCN(CC1)c1nc(N)c2cc(OC)c(OC)...</td>\n",
       "      <td>2</td>\n",
       "    </tr>\n",
       "    <tr>\n",
       "      <th>1075</th>\n",
       "      <td>1075</td>\n",
       "      <td>O-94</td>\n",
       "      <td>O1c2c(C=CC1=O)cccc2</td>\n",
       "      <td>2</td>\n",
       "    </tr>\n",
       "    <tr>\n",
       "      <th>1076</th>\n",
       "      <td>1076</td>\n",
       "      <td>O-97</td>\n",
       "      <td>Clc1cccc(Cl)c1C=NN=C(N)N</td>\n",
       "      <td>2</td>\n",
       "    </tr>\n",
       "    <tr>\n",
       "      <th>1077</th>\n",
       "      <td>1077</td>\n",
       "      <td>O-98</td>\n",
       "      <td>OC1(CCC2C3C(C4(C(=CC(=O)CC4)CC3)C)C(O)CC12C)C(...</td>\n",
       "      <td>2</td>\n",
       "    </tr>\n",
       "  </tbody>\n",
       "</table>\n",
       "<p>1078 rows × 4 columns</p>\n",
       "</div>"
      ],
      "text/plain": [
       "      Unnamed: 0       UNIQUEID  \\\n",
       "0              0  A-logD7.4-100   \n",
       "1              1  A-logD7.4-101   \n",
       "2              2  A-logD7.4-104   \n",
       "3              3  A-logD7.4-105   \n",
       "4              4  A-logD7.4-106   \n",
       "...          ...            ...   \n",
       "1073        1073           O-88   \n",
       "1074        1074            O-9   \n",
       "1075        1075           O-94   \n",
       "1076        1076           O-97   \n",
       "1077        1077           O-98   \n",
       "\n",
       "                                                  SMILE  KMeans_labels  \n",
       "0           Fc1cc2c(N(C=C(C(O)=O)C2=O)C2CC2)cc1N1CCNCC1              2  \n",
       "1           S1(=O)(=O)N(CCN1C)c1cc2c([nH]cc2CCN(C)C)cc1              2  \n",
       "2                               OC=1C(=O)C=CN(CCCO)C=1C              2  \n",
       "3       Fc1cc2c(N(C=C(C(O)=O)C2=O)c2ccccc2C)cc1N1CCNCC1              2  \n",
       "4                         OC=1C(=O)C=CN(CCC(=O)NCC)C=1C              2  \n",
       "...                                                 ...            ...  \n",
       "1073                        O(CC(O)CNC(C)C)c1ccccc1CC=C              2  \n",
       "1074  O1CCC[C@H]1C(=O)N1CCN(CC1)c1nc(N)c2cc(OC)c(OC)...              2  \n",
       "1075                                O1c2c(C=CC1=O)cccc2              2  \n",
       "1076                           Clc1cccc(Cl)c1C=NN=C(N)N              2  \n",
       "1077  OC1(CCC2C3C(C4(C(=CC(=O)CC4)CC3)C)C(O)CC12C)C(...              2  \n",
       "\n",
       "[1078 rows x 4 columns]"
      ]
     },
     "execution_count": 27,
     "metadata": {},
     "output_type": "execute_result"
    }
   ],
   "source": [
    "file_KM = './data/KMeans_labels_clustering_53_comps.csv'\n",
    "file_KM_read = pd.read_csv(file_KM)\n",
    "file_KM_dataframe = pd.DataFrame(file_KM_read)\n",
    "file_KM_dataframe"
   ]
  },
  {
   "cell_type": "code",
   "execution_count": 28,
   "metadata": {},
   "outputs": [],
   "source": [
    "Km_labels = file_KM_dataframe['KMeans_labels']"
   ]
  },
  {
   "cell_type": "code",
   "execution_count": 29,
   "metadata": {},
   "outputs": [
    {
     "name": "stdout",
     "output_type": "stream",
     "text": [
      "43\n",
      "324\n",
      "711\n"
     ]
    }
   ],
   "source": [
    "indici_cluster_ZERO = []\n",
    "indici_cluster_UNO = []\n",
    "indici_cluster_DUE = []\n",
    "\n",
    "\n",
    "for cont, num in enumerate (Km_labels) :\n",
    "    if num==0 :\n",
    "        indici_cluster_ZERO.append( cont )\n",
    "    elif num==1 :\n",
    "        indici_cluster_UNO.append( cont )\n",
    "    elif num==2 :\n",
    "        indici_cluster_DUE.append( cont )\n",
    "        \n",
    "print(len(indici_cluster_ZERO))\n",
    "print(len(indici_cluster_UNO))\n",
    "print(len(indici_cluster_DUE))"
   ]
  },
  {
   "cell_type": "code",
   "execution_count": 30,
   "metadata": {},
   "outputs": [
    {
     "name": "stdout",
     "output_type": "stream",
     "text": [
      "43\n",
      "324\n",
      "711\n"
     ]
    }
   ],
   "source": [
    "SETID_value = file_dataframe['SETID']\n",
    "\n",
    "SETID_ZERO = []\n",
    "SETID_UNO = []\n",
    "SETID_DUE = [] \n",
    "\n",
    "\n",
    "for ind in indici_cluster_ZERO :\n",
    "    SETID_ZERO.append(SETID_value[ind])\n",
    "    \n",
    "SETID_UNO = []\n",
    "for ind in indici_cluster_UNO :\n",
    "    SETID_UNO.append(SETID_value[ind])\n",
    "    \n",
    "SETID_DUE = []\n",
    "for ind in indici_cluster_DUE :\n",
    "    SETID_DUE.append(SETID_value[ind])\n",
    "\n",
    "print(len(SETID_ZERO))\n",
    "print(len(SETID_UNO))\n",
    "print(len(SETID_DUE))"
   ]
  },
  {
   "cell_type": "code",
   "execution_count": 31,
   "metadata": {},
   "outputs": [
    {
     "name": "stdout",
     "output_type": "stream",
     "text": [
      "Y_GM_0 :\n",
      " [0.2, 2.1, 2.42, -1.33, 2.8, 3.4, 3.7, 3.9, 4.0, 4.22, 4.3, 4.3, 4.3, 4.38, 4.5, 4.6, 4.7, 4.8, 4.85, 2.8, 3.5, 4.4, 3.6, 4.07, 3.8, 4.11, 3.5, 4.3, 4.2, 4.5, 4.4, 4.2, 4.0, 2.8, 3.3, 3.5, 3.2, 0.45, 1.92, -1.95, 0.98, 1.14, 0.33]\n",
      "Y_GM_1 :\n",
      " [-0.5, 0.25, -2.59, 0.3, 0.3, 0.37, 0.4, 0.4, 0.42, 0.49, 0.5, 0.5, 0.5, 0.5, -2.73, 0.6, 0.6, 0.7, 0.79, 0.89, 0.89, 1.0, 1.04, 1.09, 1.1, 1.1, 1.1, 1.1, 1.14, 1.17, 1.18, 1.2, 1.21, 1.22, 1.25, 1.3, 1.3, 1.31, 1.31, 1.37, 1.38, 1.45, 1.41, 1.47, 1.47, 1.47, 1.49, 1.58, 1.6, 1.61, 1.63, 1.64, 1.64, 1.68, 1.69, 1.7, 1.76, 1.79, 1.85, 1.87, 1.95, 2.03, 2.07, 2.1, 2.1, 2.1, 2.1, 2.17, 2.17, 2.18, 2.2, -1.51, 2.24, 2.27, 2.28, 2.3, 2.3, 2.3, 2.32, 2.34, 2.35, 2.4, 2.4, 2.41, 2.49, 2.5, 2.5, -1.38, 2.59, 2.6, 2.6, 2.64, 2.64, 2.7, 2.7, 2.71, 2.75, 2.76, 2.8, 2.9, 2.9, 2.9, 2.91, 2.93, 2.94, 2.96, 3.02, 3.02, 3.02, 3.11, 3.2, 3.26, 4.76, 3.4, 3.5, 3.5, 3.54, 5.77, 3.61, 5.39, 3.65, 3.7, 3.7, 3.7, 3.7, 3.71, 3.74, 3.77, 3.81, 3.81, 4.02, 4.02, 4.03, 4.09, 6.03, 4.25, 6.16, 4.42, 6.66, 4.65, 4.7, -1.1, 5.07, 5.1, 5.2, 5.61, 3.46, 3.52, 3.65, 3.94, 4.1, 6.07, 0.3, 6.1, 2.98, 2.1, 1.81, 2.3, 0.7, 2.2, 2.4, 2.4, 2.6, 2.8, 2.9, 2.9, 2.9, 2.9, 3.0, 3.0, 3.0, 3.1, 3.1, 3.1, 3.4, 3.4, 3.4, 3.7, 4.2, 1.68, 2.73, 2.92, 1.37, 2.06, 1.34, 2.51, 0.88, 3.26, 2.86, 1.56, 3.44, 1.17, 1.55, 1.37, 0.9, 2.67, 1.91, 1.5, 3.29, 2.32, 1.75, 2.54, 1.52, 1.13, 0.95, 3.36, 3.52, 2.8, 3.61, 2.1, 2.88, 3.62, 3.13, 1.91, 2.34, 1.1, 1.22, 1.11, 1.46, 1.83, 1.15, 2.35, 2.22, 1.63, 1.24, 1.44, 1.98, 1.56, 1.34, 2.86, 2.0, 1.77, 1.69, 1.57, 2.84, 2.68, 2.32, 2.44, 2.41, 2.74, 2.62, 2.59, 2.59, 1.81, 1.92, 1.84, 2.07, 2.52, 2.58, 2.76, 3.41, 3.55, 3.72, 4.12, 4.44, 4.67, 4.73, 4.92, 5.06, 5.74, 0.4, 1.8, 2.1, 2.3, 1.9, 2.0, 2.1, 2.1, 2.1, 2.3, -3.4, 3.31, 2.46, 2.83, 2.92, 2.92, 3.11, 3.58, 3.76, 3.95, 4.04, 1.9, 4.32, 2.08, 2.18, 4.16, 4.2, 4.64, 4.67, 4.69, 4.77, 4.79, 4.84, 4.89, 4.94, 5.01, 5.2, 5.51, 6.02, 6.45, 6.5, 4.83, 5.79, 3.83, -0.13, 1.82, 2.36, -1.15, 1.5, 4.33, 1.91, 2.22, 0.12, 0.39, -0.29, 3.13, -0.4, 3.53, 4.2, 1.08, 1.14, 0.08, 4.15, 1.4]\n",
      "Y_GM_2 :\n",
      " [-0.96, -0.92, -0.9, -0.83, -0.82, -0.79, -0.78, -0.77, -0.77, -0.77, -0.75, -0.75, -0.74, -0.73, -0.73, -0.7, -0.68, -0.67, -0.66, -0.64, -0.57, -0.55, -0.52, -0.51, -0.5, -0.39, -0.48, -0.47, -0.46, -0.43, -2.92, -0.43, -0.43, -0.41, -0.41, -0.4, -0.39, -0.36, -0.34, -0.34, -0.32, -0.32, -0.31, -0.28, -0.26, -0.24, -0.23, -0.21, -0.2, -0.2, -0.2, -0.19, -0.17, -0.16, -0.13, -0.12, -0.08, -0.06, -2.75, -0.07, -0.04, -0.03, -0.02, 0.008, 0.02, 0.02, 0.03, 0.04, 0.05, 0.05, 0.05, 0.05, 0.05, 0.19, 0.11, 0.12, 0.16, 0.16, 0.18, 0.2, 0.2, 0.21, 0.22, 0.254, 0.31, 0.31, 0.31, 0.393999999999999, 0.4, 0.4, 0.47, 0.5, 0.5, 0.5, 0.55, 0.57, 0.6, 0.6, 0.6, 0.61, 0.64, 0.65, 0.69, 0.693, 0.7, 0.7, 0.72, 0.73, 0.8, 0.8, 0.85, 0.86, 0.88, 0.9, 0.9, 0.96, 0.98, 1.0, 1.01, 1.06, 1.09, 1.09, 1.1, -2.12, 1.1, 1.1, 1.1, 1.12, 1.14, 1.15, 1.2, 1.2, 1.2, 1.2, 1.22, 1.24, 1.26, -1.99, 1.27, 1.3, 1.3, 1.3, 1.3, 1.3, 1.3, 1.36, 1.4, 1.4, 1.4, 1.4, 1.42, 1.44, 1.45, 1.5, 1.5, 1.52, -1.71, 1.54, 1.55, 1.67, 1.59, 1.6, 1.6, 1.6, 1.6, 1.6, 1.61, 1.63, 1.64, 1.66, 1.7, 1.7, 1.7, -1.7, 1.7, 1.7, 1.7, 1.73, 1.76, 1.76, 1.78, 1.79, 1.8, 1.8, -1.6, 1.8, 1.8, 1.88, 1.89, 1.9, 1.9, 1.92, 1.93, 1.94, 1.94, 1.94, 1.99, 2.0, 2.0, 2.0, 2.0, 2.01, 2.02, 2.06, 2.14, 2.09, -1.55, 2.1, 2.1, 2.1, 2.13, 2.16, 2.18, 2.21, 2.22, 2.23, 2.27, 2.3, 2.3, 2.3, 2.3, 2.3, 2.3, 2.31, 2.31, 2.31, 2.35, 2.48, 2.4, 2.4, 2.4, 2.4, 2.4, 2.4, 2.4, 2.41, 2.41, 2.42, 2.45, 2.48, 2.49, -1.38, 2.5, 2.5, 2.51, 2.55, 2.59, 2.6, 2.6, 2.6, 2.6, 2.6, 2.61, 2.61, 2.83, 2.66, 2.7, 2.7, 2.71, 2.73, 2.74, -1.32, 2.78, 2.8, 2.8, 2.8, 2.8, 2.8, 2.81, 2.84, 2.85, 2.87, 2.9, 2.9, 2.9, 2.92, 2.93, 2.97, 2.97, -1.18, 3.0, 3.0, -1.17, 3.0, 3.08, 3.1, 3.1, 3.1, 3.1, 3.13, 3.14, 3.2, 3.2, 3.2, 3.2, 3.34, 3.28, 3.29, 3.29, 3.3, 3.3, 3.35, 3.4, 3.4, 3.44, 3.47, 3.48, 3.48, 3.5, 3.5, 3.5, 2.47, 3.6, 3.6, 3.6, 3.6, 3.7, -1.15, 3.7, 3.8, 3.8, -1.13, 3.8, 3.84, 3.9, 4.0, 4.0, -1.12, 4.04, 4.12, -1.11, 4.3, 4.38, 4.44, -1.1, 4.52, 4.84, -1.08, 5.34, -1.05, -1.0, -0.97, -0.97, -0.94, 0.21, 3.39, 0.36, 0.51, 1.58, -0.44, 2.1, 4.77, 0.72, -0.07, 1.14, 1.41, 1.11, 0.79, 3.06, 1.05, 1.83, 5.07, 1.34, 0.81, 4.01, 2.91, 2.18, 1.55, 0.91, 2.77, 1.71, 4.4, 2.72, -0.02, 0.47, 3.37, 3.17, -0.52, 2.3, 0.29, -0.61, 1.53, 2.3, 1.26, 2.03, 3.29, 2.29, -0.27, 3.34, -0.09, 0.57, 5.4, 1.21, 0.43, 3.61, 0.63, 0.74, 2.5, 0.09, 2.63, 1.8, 2.5, 2.5, 2.6, 3.0, 3.0, 3.2, 0.11, 0.14, 0.7, 1.7, 2.72, 2.64, 6.84, 2.83, 2.92, 2.92, 3.02, 3.02, 3.02, 3.11, 3.11, 3.2, 3.2, 3.39, 3.39, 3.39, 3.48, 1.52, 3.76, 3.86, 4.04, 4.23, 4.32, 4.32, 4.41, 4.41, 4.51, 4.51, 4.97, 5.16, 2.18, 1.64, 3.09, 3.1, 3.3, 3.3, 3.44, 3.6, 3.67, 3.67, 3.67, 3.76, 2.34, 3.77, 3.82, 3.84, 3.9, 3.92, 4.0, 3.98, 3.99, 4.02, 4.02, 2.41, 4.15, 4.16, 4.2, 2.72, 4.3, 4.31, 4.32, 4.32, 4.32, 4.41, 4.43, 4.43, 4.44, 4.46, 2.78, 4.52, 4.53, 4.56, 4.6, 4.66, 4.67, 2.82, 4.83, 4.95, 2.87, 5.02, 5.02, 2.93, 5.22, 5.34, 5.41, 5.49, 5.5, 3.02, 5.99, 6.6, 6.68, -0.34, -0.24, -0.22, 0.2, 0.33, 1.2, -2.1, -1.1, 0.1, 0.25, -1.15, 2.28, 2.88, 0.9, 3.11, -1.11, -1.03, -0.77, -0.72, -0.61, -0.01, 0.21, 0.27, 0.28, -2.2, 0.71, 1.01, 1.04, 1.46, 1.7, 1.74, 1.78, 1.92, 2.08, -2.1, 2.47, 2.91, -2.07, -1.98, -1.8, -1.65, -1.62, -1.28, -1.32, -0.61, -0.56, -0.13, 0.75, 1.16, 1.25, -1.25, -1.12, -1.01, -0.85, -0.65, 2.1, -2.14, -1.05, 5.2, 0.5, 1.65, 2.19, 2.72, 5.4, 4.77, -3.0, 1.28, 1.88, 0.88, 4.2, 0.21, -1.38, 2.3, -0.92, 1.94, -0.05, 1.6, 1.0, 3.39, 1.44, 0.43, 1.12, 1.21, 0.33, 3.5, -1.11, -1.77, 2.77, -0.06, 1.5, 0.52, 1.33, 5.25, -0.27, -0.62, -0.99, -0.54, 2.59, 3.48, 1.89, -0.23, -0.19, 0.0, -0.96, -0.29, -0.05, -0.72, -0.39, -0.1, -0.51, -0.87, 0.63, -0.35, -0.67, -0.85, -1.9, -0.44, 2.22, -2.56, 0.4, 1.3, 1.4, 0.86, -1.31, -0.6, 0.45, 2.61, 0.41, 2.1, 1.09, -2.0, -0.53, 2.44, 3.71, 3.5, -0.6, -2.38, 1.44, 2.89, 2.34, -1.19, 2.91, 1.07, 0.12, -1.0, 2.45, 2.39, -1.0, 0.65, 3.01, -1.77, 2.1, -0.98, -0.34, -3.1, 1.41, 0.37, -0.5, -1.85, -0.87, 2.38, 2.13, 2.06, -0.77, -0.07, 2.41, -0.51, -0.3, 2.49, 0.68, 2.7, -0.56, -0.11, -0.5, -1.25, 1.83, 1.9, 1.51, 3.5, -0.36, -0.06, 1.58, 0.91, 0.25, 0.41, 1.54, 0.34, -0.23, -0.11, 0.78, 1.17, -3.62, -1.12, 3.42, -0.54, 3.31, -2.88, -0.72, -3.34, -0.58, 1.81, 3.48, -0.9, -2.0, 1.0, 1.14, 1.415, 1.67, 1.53]\n"
     ]
    }
   ],
   "source": [
    "Y_GM_0 = []\n",
    "\n",
    "Y_GM_1 = []\n",
    "\n",
    "Y_GM_2 = []\n",
    "\n",
    "\n",
    "for idx, y in enumerate (Y[\"GM\"]) :\n",
    "    if idx in indici_cluster_ZERO :\n",
    "        Y_GM_0.append( y )\n",
    "    elif idx in indici_cluster_UNO :\n",
    "        Y_GM_1.append( y )\n",
    "    elif idx in indici_cluster_DUE :\n",
    "        Y_GM_2.append( y )\n",
    "        \n",
    "print(\"Y_GM_0 :\\n\", Y_GM_0)\n",
    "print(\"Y_GM_1 :\\n\", Y_GM_1)\n",
    "print(\"Y_GM_2 :\\n\", Y_GM_2)"
   ]
  },
  {
   "cell_type": "code",
   "execution_count": 32,
   "metadata": {},
   "outputs": [
    {
     "name": "stdout",
     "output_type": "stream",
     "text": [
      "[0.2, 2.1, 2.42, 3.4, 3.7, 3.9, 4.22, 4.3, 4.3, 4.38, 4.6, 4.7, 4.85, 2.8, 3.6, 4.07, 3.8, 4.11, 3.5, 4.3, 4.2, 4.5, 4.4, 4.2, 4.0, 2.8, 3.3, 3.5, 3.2, 0.45, 1.92, -1.95, 0.98, 1.14, 0.33]\n",
      "[-1.33, 2.8, 4.0, 4.3, 4.5, 4.8, 3.5, 4.4]\n"
     ]
    }
   ],
   "source": [
    "Y_GM_0_TR = []\n",
    "Y_GM_0_TE = []\n",
    "\n",
    "for idx, y_0 in enumerate (Y_GM_0) :\n",
    "    if SETID_ZERO[idx]==(\"Tr\") :\n",
    "        Y_GM_0_TR.append( y_0 )\n",
    "    elif SETID_ZERO[idx]==(\"Te\") :\n",
    "        Y_GM_0_TE.append( y_0 )\n",
    "        \n",
    "print(Y_GM_0_TR)\n",
    "print(Y_GM_0_TE) "
   ]
  },
  {
   "cell_type": "code",
   "execution_count": 33,
   "metadata": {},
   "outputs": [
    {
     "name": "stdout",
     "output_type": "stream",
     "text": [
      "[-0.5, 0.25, -2.59, 0.3, 0.37, 0.4, 0.42, 0.49, 0.5, 0.5, 0.5, 0.5, -2.73, 0.6, 0.6, 0.7, 0.79, 0.89, 0.89, 1.0, 1.04, 1.09, 1.1, 1.1, 1.1, 1.1, 1.17, 1.18, 1.2, 1.21, 1.25, 1.3, 1.31, 1.31, 1.37, 1.38, 1.45, 1.41, 1.47, 1.47, 1.47, 1.49, 1.58, 1.61, 1.63, 1.64, 1.68, 1.69, 1.79, 1.87, 1.95, 2.07, 2.1, 2.1, 2.1, 2.17, 2.18, 2.2, -1.51, 2.24, 2.27, 2.28, 2.3, 2.3, 2.32, 2.34, 2.35, 2.4, 2.41, 2.49, 2.5, 2.5, 2.59, 2.6, 2.6, 2.64, 2.7, 2.7, 2.71, 2.76, 2.8, 2.9, 2.9, 2.9, 2.91, 2.93, 2.94, 2.96, 3.02, 3.02, 3.02, 3.11, 3.2, 3.26, 4.76, 3.4, 3.5, 3.5, 3.54, 5.77, 3.61, 3.7, 3.7, 3.7, 3.7, 3.74, 3.77, 3.81, 4.02, 4.02, 4.03, 6.03, 6.16, 4.42, 6.66, 4.65, 4.7, -1.1, 5.07, 5.1, 5.2, 5.61, 3.46, 3.65, 3.94, 4.1, 6.07, 6.1, 2.98, 1.81, 2.3, 2.4, 2.4, 2.9, 2.9, 3.0, 3.0, 3.1, 3.1, 3.4, 3.4, 3.7, 4.2, 1.68, 2.73, 2.92, 1.37, 2.06, 1.34, 2.51, 0.88, 3.26, 2.86, 1.56, 3.44, 1.17, 1.55, 1.37, 2.67, 1.91, 1.5, 3.29, 2.32, 1.75, 2.54, 1.52, 1.13, 0.95, 3.36, 2.8, 3.61, 2.1, 2.88, 3.62, 3.13, 1.91, 2.34, 1.1, 1.22, 1.11, 1.46, 1.15, 2.35, 2.22, 1.63, 1.44, 1.98, 1.56, 1.34, 2.86, 1.77, 1.69, 1.57, 2.84, 2.68, 2.32, 2.41, 2.74, 2.59, 1.81, 1.92, 1.84, 2.07, 2.52, 2.58, 2.76, 3.55, 3.72, 4.12, 4.44, 4.92, 5.06, 5.74, 0.4, 2.1, 2.3, 1.9, 2.0, 2.1, 2.1, 2.3, -3.4, 3.31, 2.46, 2.92, 3.11, 3.58, 3.76, 3.95, 4.04, 1.9, 4.32, 2.08, 2.18, 4.16, 4.64, 4.69, 4.77, 4.79, 4.89, 4.94, 5.2, 5.51, 6.02, 6.45, 6.5, 4.83, 5.79, 3.83, 1.82, 2.36, -1.15, 1.5, 1.91, 2.22, 0.12, -0.29, 3.13, -0.4, 3.53, 4.2, 1.08, 1.14, 0.08]\n",
      "[0.3, 0.4, 1.14, 1.22, 1.3, 1.6, 1.64, 1.7, 1.76, 1.85, 2.03, 2.1, 2.17, 2.3, 2.4, -1.38, 2.64, 2.75, 5.39, 3.65, 3.71, 3.81, 4.09, 4.25, 3.52, 0.3, 2.1, 0.7, 2.2, 2.6, 2.8, 2.9, 2.9, 3.0, 3.1, 3.4, 0.9, 3.52, 1.83, 1.24, 2.0, 2.44, 2.62, 2.59, 3.41, 4.67, 4.73, 1.8, 2.1, 2.83, 2.92, 4.2, 4.67, 4.84, 5.01, -0.13, 4.33, 0.39, 4.15, 1.4]\n"
     ]
    }
   ],
   "source": [
    "Y_GM_1_TR = []\n",
    "Y_GM_1_TE = []\n",
    "\n",
    "for idx, y_1 in enumerate (Y_GM_1) :\n",
    "    if SETID_UNO[idx]==(\"Tr\") :\n",
    "        Y_GM_1_TR.append( y_1 )\n",
    "    elif SETID_UNO[idx]==(\"Te\") :\n",
    "        Y_GM_1_TE.append( y_1 )\n",
    "        \n",
    "print(Y_GM_1_TR)\n",
    "print(Y_GM_1_TE)"
   ]
  },
  {
   "cell_type": "code",
   "execution_count": 34,
   "metadata": {},
   "outputs": [
    {
     "name": "stdout",
     "output_type": "stream",
     "text": [
      "[-0.96, -0.92, -0.9, -0.83, -0.82, -0.79, -0.78, -0.77, -0.77, -0.77, -0.75, -0.75, -0.73, -0.73, -0.7, -0.67, -0.66, -0.64, -0.57, -0.55, -0.52, -0.51, -0.39, -0.48, -0.47, -0.46, -0.43, -2.92, -0.43, -0.43, -0.41, -0.41, -0.4, -0.36, -0.34, -0.32, -0.32, -0.31, -0.28, -0.26, -0.24, -0.23, -0.2, -0.2, -0.2, -0.17, -0.16, -0.12, -0.08, -0.06, -2.75, -0.07, -0.03, -0.02, 0.008, 0.02, 0.02, 0.03, 0.04, 0.05, 0.05, 0.05, 0.05, 0.19, 0.11, 0.12, 0.16, 0.16, 0.18, 0.2, 0.22, 0.254, 0.31, 0.31, 0.31, 0.393999999999999, 0.4, 0.4, 0.47, 0.5, 0.5, 0.5, 0.55, 0.57, 0.6, 0.6, 0.6, 0.61, 0.65, 0.69, 0.7, 0.7, 0.72, 0.73, 0.8, 0.8, 0.85, 0.86, 0.88, 0.9, 0.9, 0.96, 1.0, 1.01, 1.06, 1.09, 1.09, -2.12, 1.1, 1.1, 1.1, 1.12, 1.14, 1.15, 1.2, 1.2, 1.2, 1.22, 1.24, 1.27, 1.3, 1.3, 1.3, 1.3, 1.3, 1.36, 1.4, 1.4, 1.4, 1.4, 1.42, 1.44, 1.45, 1.5, 1.52, -1.71, 1.54, 1.55, 1.59, 1.6, 1.6, 1.6, 1.6, 1.61, 1.63, 1.64, 1.66, 1.7, 1.7, -1.7, 1.7, 1.7, 1.73, 1.76, 1.78, 1.79, 1.8, 1.8, -1.6, 1.8, 1.8, 1.88, 1.89, 1.9, 1.9, 1.92, 1.93, 1.94, 1.94, 2.0, 2.01, 2.02, 2.14, 2.1, 2.1, 2.13, 2.16, 2.18, 2.21, 2.23, 2.27, 2.3, 2.3, 2.3, 2.3, 2.3, 2.3, 2.31, 2.31, 2.31, 2.35, 2.48, 2.4, 2.4, 2.4, 2.4, 2.4, 2.4, 2.41, 2.42, 2.45, 2.48, 2.49, -1.38, 2.5, 2.5, 2.51, 2.59, 2.6, 2.6, 2.6, 2.6, 2.6, 2.61, 2.66, 2.7, 2.7, 2.71, 2.73, 2.74, 2.78, 2.8, 2.8, 2.8, 2.8, 2.84, 2.87, 2.9, 2.9, 2.92, 2.93, 2.97, -1.18, 3.0, -1.17, 3.1, 3.1, 3.1, 3.1, 3.13, 3.2, 3.2, 3.2, 3.28, 3.29, 3.3, 3.35, 3.4, 3.4, 3.47, 3.48, 3.5, 3.5, 3.6, 3.6, 3.6, -1.15, 3.7, 3.8, 3.8, -1.13, 3.84, 3.9, 4.0, 4.0, -1.12, 4.04, 4.12, -1.11, 4.3, 4.38, 4.44, -1.1, 4.52, 4.84, -1.08, 5.34, -1.05, -1.0, -0.97, -0.94, 0.21, 3.39, 0.36, 0.51, 1.58, -0.44, 2.1, 0.72, -0.07, 1.41, 1.11, 0.79, 1.05, 1.34, 0.81, 4.01, 2.91, 2.77, 1.71, 4.4, 2.72, -0.02, 3.37, 2.3, 0.29, -0.61, 1.53, 2.3, 1.26, 2.03, 3.29, 2.29, -0.27, -0.09, 5.4, 1.21, 0.43, 0.74, 0.09, 2.63, 2.5, 3.0, 3.0, 3.2, 0.11, 0.14, 0.7, 1.7, 2.72, 2.64, 6.84, 2.83, 2.92, 3.02, 3.02, 3.02, 3.11, 3.2, 3.39, 3.48, 1.52, 3.76, 3.86, 4.04, 4.23, 4.32, 4.32, 4.41, 4.41, 4.51, 4.51, 4.97, 5.16, 1.64, 3.09, 3.1, 3.3, 3.3, 3.44, 3.6, 3.67, 3.67, 3.76, 2.34, 3.92, 4.0, 3.98, 3.99, 4.02, 4.02, 2.41, 4.15, 4.16, 4.2, 2.72, 4.3, 4.31, 4.32, 4.32, 4.32, 4.43, 4.43, 4.44, 4.46, 2.78, 4.52, 4.53, 4.6, 4.67, 4.83, 4.95, 5.02, 2.93, 5.22, 5.34, 5.41, 5.49, 5.5, 3.02, 5.99, 6.6, 6.68, -0.34, -0.24, -0.22, 0.2, 0.33, 1.2, -2.1, -1.1, 0.1, 0.25, -1.15, 2.88, 0.9, -1.03, -0.77, -0.72, -0.61, 0.21, 0.27, -2.2, 1.01, 1.04, 1.46, 1.7, 1.74, 1.78, 1.92, 2.08, 2.91, -1.98, -1.8, -1.62, -1.28, -1.32, -0.61, -0.56, -0.13, 0.75, 1.16, 1.25, -1.25, -1.12, -1.01, -0.85, -0.65, -2.14, -1.05, 5.2, 0.5, 2.19, 2.72, 5.4, 4.77, -3.0, 1.28, 1.88, 0.21, -1.38, 2.3, 1.94, 1.0, 3.39, 1.44, 1.12, 0.33, 3.5, -1.11, 2.77, 1.5, 0.52, 5.25, -0.62, -0.99, -0.54, 2.59, 1.89, -0.19, -0.96, -0.05, -0.72, -0.39, -0.51, 0.63, -0.35, -0.67, -0.85, -1.9, -0.44, 2.22, -2.56, 0.4, 1.3, 1.4, -1.31, -0.6, 0.45, 0.41, 1.09, -2.0, -0.53, 3.5, -2.38, 1.44, 2.89, 2.34, -1.19, 2.91, 1.07, -1.0, 2.39, -1.0, 0.65, 3.01, -1.77, -0.98, -0.34, -3.1, 1.41, 0.37, -0.5, -0.87, 2.38, 2.06, -0.07, 2.41, -0.3, 2.49, 0.68, 2.7, -0.56, -0.11, -0.5, 1.83, 1.9, 1.51, 3.5, -0.36, -0.06, 1.58, 0.91, 0.25, 0.41, 1.54, -0.23, -0.11, 0.78, 1.17, -3.62, -1.12, 3.42, -0.54, 3.31, -2.88, -0.72, -3.34, -0.58, 1.81, -0.9, -2.0, 1.0, 1.14, 1.415, 1.53]\n",
      "[-0.74, -0.68, -0.5, -0.39, -0.34, -0.21, -0.19, -0.13, -0.04, 0.05, 0.2, 0.21, 0.64, 0.693, 0.98, 1.1, 1.2, 1.26, -1.99, 1.3, 1.5, 1.67, 1.6, 1.7, 1.7, 1.76, 1.94, 1.99, 2.0, 2.0, 2.0, 2.06, 2.09, -1.55, 2.1, 2.22, 2.4, 2.41, 2.55, 2.61, 2.83, -1.32, 2.8, 2.81, 2.85, 2.9, 2.97, 3.0, 3.0, 3.08, 3.14, 3.2, 3.34, 3.29, 3.3, 3.44, 3.48, 3.5, 2.47, 3.6, 3.7, 3.8, -0.97, 4.77, 1.14, 3.06, 1.83, 5.07, 2.18, 1.55, 0.91, 0.47, 3.17, -0.52, 3.34, 0.57, 3.61, 0.63, 2.5, 1.8, 2.5, 2.6, 2.92, 3.11, 3.2, 3.39, 3.39, 2.18, 3.67, 3.77, 3.82, 3.84, 3.9, 4.41, 4.56, 4.66, 2.82, 2.87, 5.02, 2.28, 3.11, -1.11, -0.01, 0.28, 0.71, -2.1, 2.47, -2.07, -1.65, 2.1, 1.65, 0.88, 4.2, -0.92, -0.05, 1.6, 0.43, 1.21, -1.77, -0.06, 1.33, -0.27, 3.48, -0.23, 0.0, -0.29, -0.1, -0.87, 0.86, 2.61, 2.1, 2.44, 3.71, -0.6, 0.12, 2.45, 2.1, -1.85, 2.13, -0.77, -0.51, -1.25, 0.34, 3.48, 1.67]\n"
     ]
    }
   ],
   "source": [
    "Y_GM_2_TR = []\n",
    "Y_GM_2_TE = []\n",
    "\n",
    "for idx, y_2 in enumerate (Y_GM_2) :\n",
    "    if SETID_DUE[idx]==(\"Tr\") :\n",
    "        Y_GM_2_TR.append( y_2 )\n",
    "    elif SETID_DUE[idx]==(\"Te\") :\n",
    "        Y_GM_2_TE.append( y_2 )\n",
    "        \n",
    "print(Y_GM_2_TR)\n",
    "print(Y_GM_2_TE)"
   ]
  },
  {
   "cell_type": "code",
   "execution_count": 35,
   "metadata": {},
   "outputs": [
    {
     "name": "stdout",
     "output_type": "stream",
     "text": [
      "(43, 1907)\n",
      "(324, 1907)\n",
      "(711, 1907)\n"
     ]
    }
   ],
   "source": [
    "X_GM_0 = []\n",
    "\n",
    "X_GM_1 = []\n",
    "\n",
    "X_GM_2 = []\n",
    "\n",
    "\n",
    "for idx, x in enumerate (X[\"GM\"]) :\n",
    "    if idx in indici_cluster_ZERO :\n",
    "        X_GM_0.append( x )\n",
    "    elif idx in indici_cluster_UNO :\n",
    "        X_GM_1.append( x )\n",
    "    elif idx in indici_cluster_DUE :\n",
    "        X_GM_2.append( x )\n",
    "        \n",
    "\n",
    "print(np.shape( X_GM_0))\n",
    "print(np.shape( X_GM_1))\n",
    "print(np.shape( X_GM_2))"
   ]
  },
  {
   "cell_type": "code",
   "execution_count": 36,
   "metadata": {},
   "outputs": [
    {
     "name": "stdout",
     "output_type": "stream",
     "text": [
      "(35, 1907)\n",
      "(8, 1907)\n"
     ]
    }
   ],
   "source": [
    "X_GM_0_TR = []\n",
    "X_GM_0_TE = []\n",
    "\n",
    "for idx, x_0 in enumerate (X_GM_0) :\n",
    "    if SETID_ZERO[idx]==(\"Tr\") :\n",
    "        X_GM_0_TR.append( x_0 )\n",
    "    elif SETID_ZERO[idx]==(\"Te\") :\n",
    "        X_GM_0_TE.append( x_0 )\n",
    "        \n",
    "print(np.shape(X_GM_0_TR))\n",
    "print(np.shape(X_GM_0_TE))"
   ]
  },
  {
   "cell_type": "code",
   "execution_count": 37,
   "metadata": {},
   "outputs": [
    {
     "name": "stdout",
     "output_type": "stream",
     "text": [
      "(264, 1907)\n",
      "(60, 1907)\n"
     ]
    }
   ],
   "source": [
    "X_GM_1_TR = []\n",
    "X_GM_1_TE = []\n",
    "\n",
    "for idx, x_1 in enumerate (X_GM_1) :\n",
    "    if SETID_UNO[idx]==(\"Tr\") :\n",
    "        X_GM_1_TR.append( x_1 )\n",
    "    elif SETID_UNO[idx]==(\"Te\") :\n",
    "        X_GM_1_TE.append( x_1 )\n",
    "        \n",
    "print(np.shape(X_GM_1_TR))\n",
    "print(np.shape(X_GM_1_TE))"
   ]
  },
  {
   "cell_type": "code",
   "execution_count": 38,
   "metadata": {},
   "outputs": [
    {
     "name": "stdout",
     "output_type": "stream",
     "text": [
      "(566, 1907)\n",
      "(145, 1907)\n"
     ]
    }
   ],
   "source": [
    "X_GM_2_TR = []\n",
    "X_GM_2_TE = []\n",
    "\n",
    "for idx, x_2 in enumerate (X_GM_2) :\n",
    "    if SETID_DUE[idx]==(\"Tr\") :\n",
    "        X_GM_2_TR.append( x_2 )\n",
    "    elif SETID_DUE[idx]==(\"Te\") :\n",
    "        X_GM_2_TE.append( x_2 )\n",
    "        \n",
    "print(np.shape(X_GM_2_TR))\n",
    "print(np.shape(X_GM_2_TE))"
   ]
  },
  {
   "cell_type": "code",
   "execution_count": 39,
   "metadata": {},
   "outputs": [],
   "source": [
    "from sklearn.metrics import mean_squared_error, r2_score\n",
    "from sklearn.cross_decomposition import PLSRegression\n",
    "from sklearn.model_selection import cross_val_predict\n",
    "from sklearn.model_selection import cross_val_score\n",
    "import matplotlib.pyplot as plt\n",
    "import numpy as np\n",
    "import matplotlib \n",
    "import math\n",
    "\n",
    "def componentiPLS (X_Tr, Y_Tr, cvval, maxcomp):\n",
    "    \n",
    "    print(\"Running GRID model using cv = %3d\"%(cvval))\n",
    "    \n",
    "    trscores_cv = []\n",
    "    trncomps =[]\n",
    "    trmses_cv = []\n",
    "    \n",
    "    for trncomp in range(1,maxcomp+1):\n",
    "            pls = PLSRegression(trncomp, scale=True)\n",
    "            pls.fit( X_Tr, Y_Tr )\n",
    "        \n",
    "            y_cv = cross_val_predict(pls, X_Tr, Y_Tr, cv=cvval)\n",
    "            trscore_cv = r2_score(Y_Tr, y_cv)\n",
    "            trmse_cv = mean_squared_error(Y_Tr, y_cv)\n",
    "        \n",
    "            trscores_cv.append(trscore_cv)\n",
    "            trmses_cv.append(trmse_cv)\n",
    "            trncomps.append(trncomp)\n",
    "            print(\"%4d %10.8f %10.8f\"%(trncomp, trmse_cv, trscore_cv))\n",
    "    \n",
    "    msetrmin = np.argmin(trmses_cv)\n",
    "    \n",
    "    plt.plot(trncomps, trscores_cv, '-o', color='black')\n",
    "    plt.xlabel('number of components tr')\n",
    "    plt.ylabel('scores tr')\n",
    "    plt.xticks(trncomps)\n",
    "    plt.show()\n",
    "    \n",
    "    plt.plot(trncomps, trmses_cv, '-o', color='black')\n",
    "    plt.xlabel('number of components tr')\n",
    "    plt.ylabel('MSE tr')\n",
    "    plt.xticks(trncomps)\n",
    "    plt.show()\n",
    "\n",
    "    acomp = msetrmin+1\n",
    "    print(\"Number of components selected automatically: \",  acomp)"
   ]
  },
  {
   "cell_type": "code",
   "execution_count": 40,
   "metadata": {},
   "outputs": [],
   "source": [
    "def ModelliAutoManuali( X_Tr, Y_Tr, X_Te, Y_Te, X_Tot, Y_Tot, cvval, auto, manual) :\n",
    "    pls_auto = PLSRegression(auto, scale=True)\n",
    "    pls_auto.fit(X_Tr, Y_Tr)\n",
    "    y_auto_te = pls_auto.predict(X_Te)\n",
    "    y_auto_tr = pls_auto.predict(X_Tr)\n",
    "    y_auto_cv_tr = cross_val_predict( pls_auto, X_Tr, Y_Tr, cv=10)\n",
    "    y_pred_auto_tot = pls_auto.predict( X_Tot )\n",
    "    \n",
    "    \n",
    "    r2_rmse_vals( Y_Tr, y_auto_tr, \"Auto Tr\" )\n",
    "    r2_rmse_vals( Y_Te, y_auto_te, \"Auto Te\" )\n",
    "    r2_rmse_vals( Y_Tot, y_pred_auto_tot, \"Auto Tot\" )\n",
    "    \n",
    "        \n",
    "    diff_auto_Tot = []\n",
    "    diffnoa_auto_Tot = []\n",
    "    for idx, v in enumerate(Y_Tot):\n",
    "        d_auto_Tot = math.fabs(v-y_pred_auto_tot[idx])\n",
    "        diff_auto_Tot.append(d_auto_Tot)\n",
    "        d_noa_auto_Tot = v-y_pred_auto_tot[idx]\n",
    "        diffnoa_auto_Tot.append(d_noa_auto_Tot)\n",
    "        \n",
    "    diff_auto_Te = []\n",
    "    diffnoa_auto_Te = []\n",
    "    for idx, v in enumerate(Y_Te):\n",
    "        d_auto_Te = math.fabs(v-y_auto_te[idx])\n",
    "        diff_auto_Te.append(d_auto_Te)\n",
    "        d_noa_auto_Te = v-y_auto_te[idx]\n",
    "        diffnoa_auto_Te.append(d_noa_auto_Te)\n",
    "        \n",
    "    diff_auto_Tr = []\n",
    "    diffnoa_auto_Tr = []\n",
    "    for idx, v in enumerate(Y_Tr):\n",
    "        d_auto_Tr = math.fabs(v-y_auto_tr[idx])\n",
    "        diff_auto_Tr.append(d_auto_Tr)\n",
    "        d_noa_auto_Tr = v-y_auto_tr[idx]\n",
    "        diffnoa_auto_Tr.append(d_noa_auto_Tr)\n",
    "            \n",
    "    print( \"Errori set Tr :\",np.average(diff_auto_Tr), np.std(diff_auto_Tr), np.std(diffnoa_auto_Tr) )\n",
    "    print( \"Errori set Te :\",np.average(diff_auto_Te), np.std(diff_auto_Te), np.std(diffnoa_auto_Te) )\n",
    "    print( \"Errori set Tot :\",np.average(diff_auto_Tot), np.std(diff_auto_Tot), np.std(diffnoa_auto_Tot) )    \n",
    "        \n",
    "    pls_manu = PLSRegression(manual, scale=True)\n",
    "    pls_manu.fit(X_Tr, Y_Tr)\n",
    "    y_manu_te = pls_manu.predict(X_Te)\n",
    "    y_manu_tr = pls_manu.predict(X_Tr)\n",
    "    y_manu_cv_tr = cross_val_predict( pls_manu, X_Tr, Y_Tr, cv=10)\n",
    "    y_pred_manu_tot = pls_manu.predict( X_Tot )\n",
    "    \n",
    "    r2_rmse_vals( Y_Tr, y_manu_tr, \"Manu Tr\" )\n",
    "    r2_rmse_vals( Y_Te, y_manu_te, \"Manu Te\" )\n",
    "    r2_rmse_vals( Y_Tot, y_pred_manu_tot, \"Manu Tot\" )\n",
    "    \n",
    "    \n",
    "        \n",
    "    diff_manual_Tot = []\n",
    "    diffnoa_manual_Tot = []\n",
    "    for idx, v in enumerate(Y_Tot):\n",
    "        d_manu_Tot = math.fabs(v-y_pred_manu_tot[idx])\n",
    "        diff_manual_Tot.append(d_manu_Tot)\n",
    "        d_noa_manu_Tot = v-y_pred_manu_tot[idx]\n",
    "        diffnoa_manual_Tot.append(d_noa_manu_Tot)\n",
    "        \n",
    "    diff_manual_Te = []\n",
    "    diffnoa_manual_Te = []\n",
    "    for idx, v in enumerate(Y_Te):\n",
    "        d_manu_Te = math.fabs(v-y_manu_te[idx])\n",
    "        diff_manual_Te.append(d_manu_Te)\n",
    "        d_noa_manu_Te = v-y_manu_te[idx]\n",
    "        diffnoa_manual_Te.append(d_noa_manu_Te)\n",
    "        \n",
    "    diff_manual_Tr = []\n",
    "    diffnoa_manual_Tr = []\n",
    "    for idx, v in enumerate(Y_Tr):\n",
    "        d_manu_Tr = math.fabs(v-y_manu_tr[idx])\n",
    "        diff_manual_Tr.append(d_manu_Tr)\n",
    "        d_noa_manu_Tr = v-y_manu_tr[idx]\n",
    "        diffnoa_manual_Tr.append(d_noa_manu_Tr)\n",
    "            \n",
    "    print(\"Errori Tr set:\", np.average(diff_manual_Tr), np.std(diff_manual_Tr), np.std(diffnoa_manual_Tr) )\n",
    "    print(\"Errori Te set:\", np.average(diff_manual_Te), np.std(diff_manual_Te), np.std(diffnoa_manual_Te) )\n",
    "    print(\"Errori Tot set:\", np.average(diff_manual_Tot), np.std(diff_manual_Tot), np.std(diffnoa_manual_Tot) )\n",
    "\n",
    "    \n",
    "    plt.scatter(Y_Tot, y_pred_auto_tot)\n",
    "    plt.xlabel(\"Y_auto_true\")\n",
    "    plt.ylabel(\"Y_auto\")\n",
    "    plt.show()\n",
    "        \n",
    "    plt.scatter(Y_Tot, y_pred_manu_tot)\n",
    "    plt.xlabel(\"Y_manu_true\")\n",
    "    plt.ylabel(\"Y_manu\")\n",
    "    plt.show()\n",
    "    \n",
    "    plt.scatter(Y_Tr, y_auto_tr)\n",
    "    plt.xlabel(\"Y_vera_Tr\")\n",
    "    plt.ylabel(\"Y_predetta_auto_Tr\")\n",
    "    plt.show()\n",
    "    \n",
    "    plt.scatter(Y_Tr, y_manu_tr)\n",
    "    plt.xlabel(\"Y_vera_Tr\")\n",
    "    plt.ylabel(\"Y_predetta_manu_Tr\")\n",
    "    plt.show()\n",
    "    \n",
    "    plt.scatter(Y_Te, y_auto_te)\n",
    "    plt.xlabel(\"Y_vera_Te\")\n",
    "    plt.ylabel(\"Y_predetta_auto_Te\")\n",
    "    plt.show()\n",
    "    \n",
    "    plt.scatter(Y_Te, y_manu_te)\n",
    "    plt.xlabel(\"Y_vera_Te\")\n",
    "    plt.ylabel(\"Y_predetta_manu_Te\")\n",
    "    plt.show()\n"
   ]
  },
  {
   "cell_type": "markdown",
   "metadata": {},
   "source": [
    "# MODELLO CLUSTER ZERO(43) GRID e MOE entrambi scalati"
   ]
  },
  {
   "cell_type": "code",
   "execution_count": 41,
   "metadata": {},
   "outputs": [
    {
     "name": "stdout",
     "output_type": "stream",
     "text": [
      "Running GRID model using cv =  10\n",
      "   1 2.00148401 0.18563643\n",
      "   2 1.97227476 0.19752109\n",
      "   3 1.96253728 0.20148307\n",
      "   4 1.93905957 0.21103568\n",
      "   5 1.80777154 0.26445414\n",
      "   6 1.79557373 0.26941718\n",
      "   7 1.78688803 0.27295122\n",
      "   8 1.77769474 0.27669178\n",
      "   9 1.77677738 0.27706504\n",
      "  10 1.76144165 0.28330484\n",
      "  11 1.75737697 0.28495868\n",
      "  12 1.76210237 0.28303600\n",
      "  13 1.76212800 0.28302557\n",
      "  14 1.76236378 0.28292964\n",
      "  15 1.76232117 0.28294698\n",
      "  16 1.76222763 0.28298504\n",
      "  17 1.76219469 0.28299844\n",
      "  18 1.76224940 0.28297618\n",
      "  19 1.76228621 0.28296121\n",
      "  20 1.76228942 0.28295990\n"
     ]
    },
    {
     "data": {
      "image/png": "[encoded data removed]",
      "text/plain": [
       "<Figure size 432x288 with 1 Axes>"
      ]
     },
     "metadata": {
      "needs_background": "light"
     },
     "output_type": "display_data"
    },
    {
     "data": {
      "image/png": "[encoded data removed]",
      "text/plain": [
       "<Figure size 432x288 with 1 Axes>"
      ]
     },
     "metadata": {
      "needs_background": "light"
     },
     "output_type": "display_data"
    },
    {
     "name": "stdout",
     "output_type": "stream",
     "text": [
      "Number of components selected automatically:  11\n"
     ]
    }
   ],
   "source": [
    "componentiPLS( X_GM_0_TR, Y_GM_0_TR, 10, 20 )"
   ]
  },
  {
   "cell_type": "code",
   "execution_count": 42,
   "metadata": {},
   "outputs": [
    {
     "name": "stdout",
     "output_type": "stream",
     "text": [
      "r2 su Auto Tr set è : [0.9999833]\n",
      "rmse su Auto Tr set è : [0.0064066]\n",
      "r2 su Auto Te set è : [0.61580953]\n",
      "rmse su Auto Te set è : [1.16117624]\n",
      "r2 su Auto Tot set è : [0.90571344]\n",
      "rmse su Auto Tot set è : [0.50088477]\n",
      "Errori set Tr : 0.005076007062279421 0.003908791208706593 0.006406597881057661\n",
      "Errori set Te : 0.7878134294235365 0.8530417711457741 1.100165674923635\n",
      "Errori set Tot : 0.15070157401321096 0.4776762353684551 0.4960948495102602\n",
      "r2 su Manu Tr set è : [0.9999833]\n",
      "rmse su Manu Tr set è : [0.0064066]\n",
      "r2 su Manu Te set è : [0.61580953]\n",
      "rmse su Manu Te set è : [1.16117624]\n",
      "r2 su Manu Tot set è : [0.90571344]\n",
      "rmse su Manu Tot set è : [0.50088477]\n",
      "Errori Tr set: 0.005076007062279421 0.003908791208706593 0.006406597881057661\n",
      "Errori Te set: 0.7878134294235365 0.8530417711457741 1.100165674923635\n",
      "Errori Tot set: 0.15070157401321096 0.4776762353684551 0.4960948495102602\n"
     ]
    },
    {
     "data": {
      "image/png": "[encoded data removed]",
      "text/plain": [
       "<Figure size 432x288 with 1 Axes>"
      ]
     },
     "metadata": {
      "needs_background": "light"
     },
     "output_type": "display_data"
    },
    {
     "data": {
      "image/png": "[encoded data removed]",
      "text/plain": [
       "<Figure size 432x288 with 1 Axes>"
      ]
     },
     "metadata": {
      "needs_background": "light"
     },
     "output_type": "display_data"
    },
    {
     "data": {
      "image/png": "[encoded data removed]",
      "text/plain": [
       "<Figure size 432x288 with 1 Axes>"
      ]
     },
     "metadata": {
      "needs_background": "light"
     },
     "output_type": "display_data"
    },
    {
     "data": {
      "image/png": "[encoded data removed]",
      "text/plain": [
       "<Figure size 432x288 with 1 Axes>"
      ]
     },
     "metadata": {
      "needs_background": "light"
     },
     "output_type": "display_data"
    },
    {
     "data": {
      "image/png": "[encoded data removed]",
      "text/plain": [
       "<Figure size 432x288 with 1 Axes>"
      ]
     },
     "metadata": {
      "needs_background": "light"
     },
     "output_type": "display_data"
    },
    {
     "data": {
      "image/png": "[encoded data removed]",
      "text/plain": [
       "<Figure size 432x288 with 1 Axes>"
      ]
     },
     "metadata": {
      "needs_background": "light"
     },
     "output_type": "display_data"
    }
   ],
   "source": [
    "ModelliAutoManuali( X_GM_0_TR, Y_GM_0_TR, X_GM_0_TE, Y_GM_0_TE, X_GM_0,Y_GM_0, 10, 11, 11 )"
   ]
  },
  {
   "cell_type": "markdown",
   "metadata": {},
   "source": [
    "# MODELLO CLUSTER UNO(324) GRID e MOE entrambi scalati"
   ]
  },
  {
   "cell_type": "code",
   "execution_count": 43,
   "metadata": {},
   "outputs": [
    {
     "name": "stdout",
     "output_type": "stream",
     "text": [
      "Running GRID model using cv =  10\n",
      "   1 1.04508542 0.57943531\n",
      "   2 0.85505529 0.65590749\n",
      "   3 0.79870663 0.67858339\n",
      "   4 0.75604901 0.69574973\n",
      "   5 0.73798491 0.70301911\n",
      "   6 0.74619659 0.69971456\n",
      "   7 0.74152946 0.70159271\n",
      "   8 0.74182127 0.70147528\n",
      "   9 0.74186985 0.70145573\n",
      "  10 0.74347670 0.70080910\n",
      "  11 0.74333005 0.70086811\n",
      "  12 0.74325544 0.70089814\n",
      "  13 0.74292719 0.70103023\n",
      "  14 0.74304258 0.70098380\n",
      "  15 0.74314833 0.70094124\n",
      "  16 0.74309874 0.70096120\n",
      "  17 0.74309617 0.70096223\n",
      "  18 0.74308989 0.70096476\n",
      "  19 0.74308995 0.70096473\n",
      "  20 0.74309126 0.70096421\n"
     ]
    },
    {
     "data": {
      "image/png": "[encoded data removed]",
      "text/plain": [
       "<Figure size 432x288 with 1 Axes>"
      ]
     },
     "metadata": {
      "needs_background": "light"
     },
     "output_type": "display_data"
    },
    {
     "data": {
      "image/png": "[encoded data removed]",
      "text/plain": [
       "<Figure size 432x288 with 1 Axes>"
      ]
     },
     "metadata": {
      "needs_background": "light"
     },
     "output_type": "display_data"
    },
    {
     "name": "stdout",
     "output_type": "stream",
     "text": [
      "Number of components selected automatically:  5\n"
     ]
    }
   ],
   "source": [
    "componentiPLS( X_GM_1_TR, Y_GM_1_TR, 10, 20 )"
   ]
  },
  {
   "cell_type": "code",
   "execution_count": 44,
   "metadata": {},
   "outputs": [
    {
     "name": "stdout",
     "output_type": "stream",
     "text": [
      "r2 su Auto Tr set è : [0.99457807]\n",
      "rmse su Auto Tr set è : [0.11607442]\n",
      "r2 su Auto Te set è : [0.7666481]\n",
      "rmse su Auto Te set è : [0.67756183]\n",
      "r2 su Auto Tot set è : [0.95982088]\n",
      "rmse su Auto Tot set è : [0.30983043]\n",
      "Errori set Tr : 0.09237430326162734 0.07028697888632704 0.11607442140298643\n",
      "Errori set Te : 0.4751097129611083 0.48307432187326066 0.6761124251115485\n",
      "Errori set Tot : 0.1632512309837534 0.2633323578341378 0.30972182708875157\n",
      "r2 su Manu Tr set è : [0.99457807]\n",
      "rmse su Manu Tr set è : [0.11607442]\n",
      "r2 su Manu Te set è : [0.7666481]\n",
      "rmse su Manu Te set è : [0.67756183]\n",
      "r2 su Manu Tot set è : [0.95982088]\n",
      "rmse su Manu Tot set è : [0.30983043]\n",
      "Errori Tr set: 0.09237430326162734 0.07028697888632704 0.11607442140298643\n",
      "Errori Te set: 0.4751097129611083 0.48307432187326066 0.6761124251115485\n",
      "Errori Tot set: 0.1632512309837534 0.2633323578341378 0.30972182708875157\n"
     ]
    },
    {
     "data": {
      "image/png": "[encoded data removed]",
      "text/plain": [
       "<Figure size 432x288 with 1 Axes>"
      ]
     },
     "metadata": {
      "needs_background": "light"
     },
     "output_type": "display_data"
    },
    {
     "data": {
      "image/png": "[encoded data removed]",
      "text/plain": [
       "<Figure size 432x288 with 1 Axes>"
      ]
     },
     "metadata": {
      "needs_background": "light"
     },
     "output_type": "display_data"
    },
    {
     "data": {
      "image/png": "[encoded data removed]",
      "text/plain": [
       "<Figure size 432x288 with 1 Axes>"
      ]
     },
     "metadata": {
      "needs_background": "light"
     },
     "output_type": "display_data"
    },
    {
     "data": {
      "image/png": "[encoded data removed]",
      "text/plain": [
       "<Figure size 432x288 with 1 Axes>"
      ]
     },
     "metadata": {
      "needs_background": "light"
     },
     "output_type": "display_data"
    },
    {
     "data": {
      "image/png": "[encoded data removed]",
      "text/plain": [
       "<Figure size 432x288 with 1 Axes>"
      ]
     },
     "metadata": {
      "needs_background": "light"
     },
     "output_type": "display_data"
    },
    {
     "data": {
      "image/png": "[encoded data removed]",
      "text/plain": [
       "<Figure size 432x288 with 1 Axes>"
      ]
     },
     "metadata": {
      "needs_background": "light"
     },
     "output_type": "display_data"
    }
   ],
   "source": [
    "ModelliAutoManuali( X_GM_1_TR, Y_GM_1_TR, X_GM_1_TE, Y_GM_1_TE,X_GM_1,Y_GM_1, 10, 5, 5 )"
   ]
  },
  {
   "cell_type": "markdown",
   "metadata": {},
   "source": [
    "# MODELLO CLUSTER DUE(711) GRID e MOE entrambi scalati"
   ]
  },
  {
   "cell_type": "code",
   "execution_count": 45,
   "metadata": {},
   "outputs": [
    {
     "name": "stdout",
     "output_type": "stream",
     "text": [
      "Running GRID model using cv =  10\n",
      "   1 1.21030683 0.65872830\n",
      "   2 0.87684634 0.75275456\n",
      "   3 0.78454266 0.77878155\n",
      "   4 0.75826819 0.78619019\n",
      "   5 0.75034557 0.78842414\n",
      "   6 0.74462715 0.79003657\n",
      "   7 0.74048989 0.79120316\n",
      "   8 0.74055502 0.79118480\n",
      "   9 0.74152453 0.79091142\n",
      "  10 0.74170024 0.79086187\n",
      "  11 0.74187519 0.79081254\n",
      "  12 0.74183092 0.79082503\n",
      "  13 0.74185611 0.79081793\n",
      "  14 0.74188253 0.79081048\n",
      "  15 0.74192503 0.79079849\n",
      "  16 0.74194890 0.79079176\n",
      "  17 0.74195810 0.79078917\n",
      "  18 0.74195825 0.79078912\n",
      "  19 0.74196121 0.79078829\n",
      "  20 0.74196021 0.79078857\n"
     ]
    },
    {
     "data": {
      "image/png": "[encoded data removed]",
      "text/plain": [
       "<Figure size 432x288 with 1 Axes>"
      ]
     },
     "metadata": {
      "needs_background": "light"
     },
     "output_type": "display_data"
    },
    {
     "data": {
      "image/png": "[encoded data removed]",
      "text/plain": [
       "<Figure size 432x288 with 1 Axes>"
      ]
     },
     "metadata": {
      "needs_background": "light"
     },
     "output_type": "display_data"
    },
    {
     "name": "stdout",
     "output_type": "stream",
     "text": [
      "Number of components selected automatically:  7\n"
     ]
    }
   ],
   "source": [
    "componentiPLS( X_GM_2_TR, Y_GM_2_TR, 10, 20 )"
   ]
  },
  {
   "cell_type": "code",
   "execution_count": 46,
   "metadata": {},
   "outputs": [
    {
     "name": "stdout",
     "output_type": "stream",
     "text": [
      "r2 su Auto Tr set è : [0.99972008]\n",
      "rmse su Auto Tr set è : [0.03150734]\n",
      "r2 su Auto Te set è : [0.85480794]\n",
      "rmse su Auto Te set è : [0.65328579]\n",
      "r2 su Auto Tot set è : [0.97441096]\n",
      "rmse su Auto Tot set è : [0.29635695]\n",
      "Errori set Tr : 0.02508258696289386 0.01906767987759009 0.031507341758158315\n",
      "Errori set Te : 0.5091810659578241 0.40928836918014705 0.6506984212780943\n",
      "Errori set Tot : 0.12380871840349146 0.2692560961958715 0.2961201131160899\n",
      "r2 su Manu Tr set è : [0.99972008]\n",
      "rmse su Manu Tr set è : [0.03150734]\n",
      "r2 su Manu Te set è : [0.85480794]\n",
      "rmse su Manu Te set è : [0.65328579]\n",
      "r2 su Manu Tot set è : [0.97441096]\n",
      "rmse su Manu Tot set è : [0.29635695]\n",
      "Errori Tr set: 0.02508258696289386 0.01906767987759009 0.031507341758158315\n",
      "Errori Te set: 0.5091810659578241 0.40928836918014705 0.6506984212780943\n",
      "Errori Tot set: 0.12380871840349146 0.2692560961958715 0.2961201131160899\n"
     ]
    },
    {
     "data": {
      "image/png": "[encoded data removed]",
      "text/plain": [
       "<Figure size 432x288 with 1 Axes>"
      ]
     },
     "metadata": {
      "needs_background": "light"
     },
     "output_type": "display_data"
    },
    {
     "data": {
      "image/png": "[encoded data removed]",
      "text/plain": [
       "<Figure size 432x288 with 1 Axes>"
      ]
     },
     "metadata": {
      "needs_background": "light"
     },
     "output_type": "display_data"
    },
    {
     "data": {
      "image/png": "[encoded data removed]",
      "text/plain": [
       "<Figure size 432x288 with 1 Axes>"
      ]
     },
     "metadata": {
      "needs_background": "light"
     },
     "output_type": "display_data"
    },
    {
     "data": {
      "image/png": "[encoded data removed]",
      "text/plain": [
       "<Figure size 432x288 with 1 Axes>"
      ]
     },
     "metadata": {
      "needs_background": "light"
     },
     "output_type": "display_data"
    },
    {
     "data": {
      "image/png": "[encoded data removed]",
      "text/plain": [
       "<Figure size 432x288 with 1 Axes>"
      ]
     },
     "metadata": {
      "needs_background": "light"
     },
     "output_type": "display_data"
    },
    {
     "data": {
      "image/png": "[encoded data removed]",
      "text/plain": [
       "<Figure size 432x288 with 1 Axes>"
      ]
     },
     "metadata": {
      "needs_background": "light"
     },
     "output_type": "display_data"
    }
   ],
   "source": [
    "ModelliAutoManuali( X_GM_2_TR, Y_GM_2_TR, X_GM_2_TE, Y_GM_2_TE,X_GM_2,Y_GM_2, 10, 7, 7 )"
   ]
  },
  {
   "cell_type": "code",
   "execution_count": null,
   "metadata": {},
   "outputs": [],
   "source": []
  }
 ],
 "metadata": {
  "kernelspec": {
   "display_name": "Python 3",
   "language": "python",
   "name": "python3"
  },
  "language_info": {
   "codemirror_mode": {
    "name": "ipython",
    "version": 3
   },
   "file_extension": ".py",
   "mimetype": "text/x-python",
   "name": "python",
   "nbconvert_exporter": "python",
   "pygments_lexer": "ipython3",
   "version": "3.7.6"
  }
 },
 "nbformat": 4,
 "nbformat_minor": 4
}
