{
 "cells": [
  {
   "cell_type": "code",
   "execution_count": 3,
   "metadata": {},
   "outputs": [],
   "source": [
    "def interferenza_percent( num_cluster_puro, num_intersezioni, percent,nome_clust_puro, num_comp_puro,nome_clust_interf,num_comp_interf ) :\n",
    "    interferenza_percentuale = ((num_cluster_puro-num_intersezioni)/num_cluster_puro)*percent\n",
    "    print(\"Interferenza tra\", nome_clust_puro,\"_\",num_comp_puro,\"e\", nome_clust_interf,\"_\",num_comp_interf, \"é :\\n\", interferenza_percentuale )"
   ]
  },
  {
   "cell_type": "markdown",
   "metadata": {},
   "source": [
    "# 1)num_cluster_puro,\n",
    "# 2)num_intersezioni,\n",
    "# 3)percent,\n",
    "# 4)nome_clust_puro,\n",
    "# 5)num_comp_puro,\n",
    "# 6)nome_clust_interf,\n",
    "# 7)num_comp_interf\n"
   ]
  },
  {
   "cell_type": "code",
   "execution_count": 4,
   "metadata": {},
   "outputs": [
    {
     "name": "stdout",
     "output_type": "stream",
     "text": [
      "Interferenza tra 0 _ 3 e 0 _ 2 é :\n",
      " 90.29957203994294\n",
      "Interferenza tra 0 _ 3 e 1 _ 2 é :\n",
      " 100.0\n",
      "Interferenza tra 0 _ 3 e 2 _ 2 é :\n",
      " 9.700427960057063\n"
     ]
    }
   ],
   "source": [
    "interferenza_percent( 701 , 68 , 100, \"0\",\"3\",\"0\",\"2\" )\n",
    "interferenza_percent( 701 , 0 , 100, \"0\",\"3\",\"1\",\"2\" )\n",
    "interferenza_percent( 701 , 633 , 100, \"0\",\"3\",\"2\",\"2\" )"
   ]
  },
  {
   "cell_type": "code",
   "execution_count": 5,
   "metadata": {},
   "outputs": [
    {
     "name": "stdout",
     "output_type": "stream",
     "text": [
      "Interferenza tra 1 _ 3 e 0 _ 2 é :\n",
      " 97.72727272727273\n",
      "Interferenza tra 1 _ 3 e 1 _ 2 é :\n",
      " 2.272727272727273\n",
      "Interferenza tra 1 _ 3 e 2 _ 2 é :\n",
      " 100.0\n"
     ]
    }
   ],
   "source": [
    "interferenza_percent( 44 , 1 , 100, \"1\",\"3\",\"0\",\"2\" )\n",
    "interferenza_percent( 44 , 43 , 100, \"1\",\"3\",\"1\",\"2\" )\n",
    "interferenza_percent( 44 , 0 , 100, \"1\",\"3\",\"2\",\"2\" )"
   ]
  },
  {
   "cell_type": "code",
   "execution_count": 6,
   "metadata": {},
   "outputs": [
    {
     "name": "stdout",
     "output_type": "stream",
     "text": [
      "Interferenza tra 2 _ 3 e 0 _ 2 é :\n",
      " 0.9009009009009009\n",
      "Interferenza tra 2 _ 3 e 1 _ 2 é :\n",
      " 99.69969969969969\n",
      "Interferenza tra 2 _ 3 e 2 _ 2 é :\n",
      " 99.3993993993994\n"
     ]
    }
   ],
   "source": [
    "interferenza_percent( 333 , 330 , 100, \"2\",\"3\",\"0\",\"2\" )\n",
    "interferenza_percent( 333 , 1 , 100, \"2\",\"3\",\"1\",\"2\" )\n",
    "interferenza_percent( 333 , 2 , 100, \"2\",\"3\",\"2\",\"2\" )"
   ]
  },
  {
   "cell_type": "markdown",
   "metadata": {},
   "source": [
    "#  53 comps VERSUS 2 comps"
   ]
  },
  {
   "cell_type": "code",
   "execution_count": 7,
   "metadata": {},
   "outputs": [
    {
     "name": "stdout",
     "output_type": "stream",
     "text": [
      "Interferenza tra 0 _ 53 e 0 _ 2 é :\n",
      " 1.2307692307692308\n",
      "Interferenza tra 0 _ 53 e 1 _ 2 é :\n",
      " 99.6923076923077\n",
      "Interferenza tra 0 _ 53 e 2 _ 2 é :\n",
      " 99.07692307692308\n"
     ]
    }
   ],
   "source": [
    "interferenza_percent( 325 , 321 , 100, \"0\",\"53\",\"0\",\"2\" )\n",
    "interferenza_percent( 325 , 1 , 100, \"0\",\"53\",\"1\",\"2\" )\n",
    "interferenza_percent( 325 , 3 , 100, \"0\",\"53\",\"2\",\"2\" )"
   ]
  },
  {
   "cell_type": "code",
   "execution_count": 8,
   "metadata": {},
   "outputs": [
    {
     "name": "stdout",
     "output_type": "stream",
     "text": [
      "Interferenza tra 1 _ 53 e 0 _ 2 é :\n",
      " 89.01408450704226\n",
      "Interferenza tra 1 _ 53 e 1 _ 2 é :\n",
      " 100.0\n",
      "Interferenza tra 1 _ 53 e 2 _ 2 é :\n",
      " 10.985915492957748\n"
     ]
    }
   ],
   "source": [
    "interferenza_percent( 710 , 78 , 100, \"1\",\"53\",\"0\",\"2\" )\n",
    "interferenza_percent( 710 , 0 , 100, \"1\",\"53\",\"1\",\"2\" )\n",
    "interferenza_percent( 710 , 632 , 100, \"1\",\"53\",\"2\",\"2\" )"
   ]
  },
  {
   "cell_type": "code",
   "execution_count": 9,
   "metadata": {},
   "outputs": [
    {
     "name": "stdout",
     "output_type": "stream",
     "text": [
      "Interferenza tra 2 _ 53 e 0 _ 2 é :\n",
      " 100.0\n",
      "Interferenza tra 2 _ 53 e 1 _ 2 é :\n",
      " 0.0\n",
      "Interferenza tra 2 _ 53 e 2 _ 2 é :\n",
      " 100.0\n"
     ]
    }
   ],
   "source": [
    "interferenza_percent( 43 , 0 , 100, \"2\",\"53\",\"0\",\"2\" )\n",
    "interferenza_percent( 43 , 43 , 100, \"2\",\"53\",\"1\",\"2\" )\n",
    "interferenza_percent( 43 , 0 , 100, \"2\",\"53\",\"2\",\"2\" )"
   ]
  },
  {
   "cell_type": "markdown",
   "metadata": {},
   "source": [
    "# 53 comps VERSUS 3 comps"
   ]
  },
  {
   "cell_type": "code",
   "execution_count": 10,
   "metadata": {},
   "outputs": [
    {
     "name": "stdout",
     "output_type": "stream",
     "text": [
      "Interferenza tra 0 _ 53 e 0 _ 3 é :\n",
      " 96.92307692307692\n",
      "Interferenza tra 0 _ 53 e 1 _ 3 é :\n",
      " 99.6923076923077\n",
      "Interferenza tra 0 _ 53 e 2 _ 3 é :\n",
      " 3.3846153846153846\n"
     ]
    }
   ],
   "source": [
    "interferenza_percent( 325 , 10 , 100, \"0\",\"53\",\"0\",\"3\" )\n",
    "interferenza_percent( 325 , 1 , 100, \"0\",\"53\",\"1\",\"3\" )\n",
    "interferenza_percent( 325 , 314 , 100, \"0\",\"53\",\"2\",\"3\" )"
   ]
  },
  {
   "cell_type": "code",
   "execution_count": 11,
   "metadata": {},
   "outputs": [
    {
     "name": "stdout",
     "output_type": "stream",
     "text": [
      "Interferenza tra 1 _ 53 e 0 _ 3 é :\n",
      " 2.676056338028169\n",
      "Interferenza tra 1 _ 53 e 1 _ 3 é :\n",
      " 100.0\n",
      "Interferenza tra 1 _ 53 e 2 _ 3 é :\n",
      " 97.32394366197184\n"
     ]
    }
   ],
   "source": [
    "interferenza_percent( 710 , 691 , 100, \"1\",\"53\",\"0\",\"3\" )\n",
    "interferenza_percent( 710 , 0 , 100, \"1\",\"53\",\"1\",\"3\" )\n",
    "interferenza_percent( 710 , 19 , 100, \"1\",\"53\",\"2\",\"3\" )"
   ]
  },
  {
   "cell_type": "code",
   "execution_count": 12,
   "metadata": {},
   "outputs": [
    {
     "name": "stdout",
     "output_type": "stream",
     "text": [
      "Interferenza tra 2 _ 53 e 0 _ 3 é :\n",
      " 100.0\n",
      "Interferenza tra 2 _ 53 e 1 _ 3 é :\n",
      " 0.0\n",
      "Interferenza tra 2 _ 53 e 2 _ 3 é :\n",
      " 100.0\n"
     ]
    }
   ],
   "source": [
    "interferenza_percent( 43 , 0 , 100, \"2\",\"53\",\"0\",\"3\" )\n",
    "interferenza_percent( 43 , 43 , 100, \"2\",\"53\",\"1\",\"3\" )\n",
    "interferenza_percent( 43 , 0 , 100, \"2\",\"53\",\"2\",\"3\" )"
   ]
  },
  {
   "cell_type": "code",
   "execution_count": null,
   "metadata": {},
   "outputs": [],
   "source": []
  }
 ],
 "metadata": {
  "kernelspec": {
   "display_name": "Python 3",
   "language": "python",
   "name": "python3"
  },
  "language_info": {
   "codemirror_mode": {
    "name": "ipython",
    "version": 3
   },
   "file_extension": ".py",
   "mimetype": "text/x-python",
   "name": "python",
   "nbconvert_exporter": "python",
   "pygments_lexer": "ipython3",
   "version": "3.8.5"
  }
 },
 "nbformat": 4,
 "nbformat_minor": 4
}
